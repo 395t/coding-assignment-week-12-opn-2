{
  "cells": [
    {
      "cell_type": "markdown",
      "metadata": {
        "id": "HIHJcdUfjmv1"
      },
      "source": [
        "Notebook specific for Decoupling Learning and Classifier Experiments on the CIFAR-100 Dataset"
      ]
    },
    {
      "cell_type": "markdown",
      "metadata": {
        "id": "l-Obdu2nK_79"
      },
      "source": [
        "# Load Dataset and Construct Long-Tailed Data"
      ]
    },
    {
      "cell_type": "code",
      "execution_count": null,
      "metadata": {
        "id": "IDNMKHL7MDFW"
      },
      "outputs": [],
      "source": [
        "import os\n",
        "import numpy as np\n",
        "import torch\n",
        "import torch.nn.functional as F\n",
        "import torch.optim as optim\n",
        "from torchvision import datasets, transforms\n",
        "from PIL import Image\n",
        "\n",
        "dataset = 'cifar100'\n",
        "data_root = 'data'\n",
        "data_root = os.path.abspath(os.path.expanduser(data_root))\n",
        "root_dir = os.path.join(data_root, dataset)\n",
        "transform_train = transforms.Compose([\n",
        "        transforms.RandomHorizontalFlip(p = 0.5),\n",
        "        transforms.ColorJitter(brightness=0.5, hue = 0.25),\n",
        "        transforms.ToTensor(),\n",
        "      ])\n",
        "\n",
        "transform_test = transforms.Compose([\n",
        "        transforms.ToTensor(),\n",
        "      ])\n",
        "\n",
        "# Use Torchvision to load CIFAR10 Dataset\n",
        "train_dataset = datasets.CIFAR100(root=root_dir, train=True, download=True, transform=transform_train)\n",
        "test_dataset = datasets.CIFAR100(root=root_dir, train=False, download=True, transform=transform_test)\n"
      ]
    },
    {
      "cell_type": "code",
      "execution_count": 2,
      "metadata": {
        "id": "Q2FMmOF8ftbY"
      },
      "outputs": [],
      "source": [
        "# This code section samples training examples from the full train_dataset folowing some long-tail\n",
        "# distribution\n",
        "# batch_size = 128\n",
        "\n",
        "def Imbalance_CIFAR(train_dataset):\n",
        "  # Goal Long-tail distribution\n",
        "  distribution = [500] * 100\n",
        "  distribution[10:20] = [300] * 10\n",
        "  distribution[20:30] = [250] * 10\n",
        "  distribution[30:40] = [200] * 10\n",
        "  distribution[40:50] = [100] * 10\n",
        "  distribution[50:60] = [80] * 10\n",
        "  distribution[60:70] = [75] * 10\n",
        "  distribution[70:80] = [60] * 10\n",
        "  distribution[80:90] = [55] * 10\n",
        "  distribution[90:100] = [50] * 10\n",
        "\n",
        "  train_set = []\n",
        "  # First obtain the imbalanced data and aggregate in a list\n",
        "  for (image, label) in train_dataset:\n",
        "    if distribution[label] <= 0:\n",
        "      continue;\n",
        "\n",
        "    train_set.append((image, label))\n",
        "    distribution[label] -= 1\n",
        "  return train_set\n",
        "\n",
        "imbalanced_cifar = Imbalance_CIFAR(train_dataset)"
      ]
    },
    {
      "cell_type": "code",
      "execution_count": 3,
      "metadata": {
        "colab": {
          "base_uri": "https://localhost:8080/",
          "height": 352
        },
        "id": "LBVUjcCUsKL2",
        "outputId": "8283bf53-bf8c-4495-e700-faa184254090"
      },
      "outputs": [
        {
          "data": {
            "image/png": "[encoded data removed]",
            "text/plain": [
              "<Figure size 432x288 with 1 Axes>"
            ]
          },
          "metadata": {
            "needs_background": "light"
          },
          "output_type": "display_data"
        }
      ],
      "source": [
        "import matplotlib.pyplot as plt\n",
        "\n",
        "# Sanity Check to see if Imbalancing was actually done\n",
        "distribution = [0] * 100\n",
        "for (x, y) in imbalanced_cifar:\n",
        "  distribution[y] += 1\n",
        "\n",
        "fig = plt.figure()\n",
        "ax = fig.add_axes([0,0,1,1])\n",
        "classes = [i for i in range(100)]\n",
        "freqs = distribution\n",
        "ax.bar(classes,freqs)\n",
        "ax.set_title('CIFAR-100 Distribution After Imbalancing')\n",
        "plt.show()"
      ]
    },
    {
      "cell_type": "markdown",
      "metadata": {
        "id": "yvIoLddTeMSa"
      },
      "source": [
        "# Loaders Code for Different Sampling Methods"
      ]
    },
    {
      "cell_type": "code",
      "execution_count": null,
      "metadata": {
        "id": "9u1Yq_O4uJTR"
      },
      "outputs": [],
      "source": [
        "from random import shuffle\n",
        "import numpy as np\n",
        "\n",
        "data_by_class = {}\n",
        "for (x, y) in imbalanced_cifar:\n",
        "  if y not in data_by_class:\n",
        "    data_by_class[y] = []\n",
        "\n",
        "  data_by_class[y].append(x)\n",
        "\n",
        "def GetCIFARLoaders(train_dataset, test_dataset, batch_size):\n",
        "  test_loader = torch.utils.data.DataLoader(test_dataset, batch_size=batch_size,\n",
        "                                              shuffle=False, drop_last=False)\n",
        "  shuffle(train_dataset)\n",
        "  current_images = torch.zeros(batch_size, 3, 32, 32)\n",
        "  current_labels = torch.zeros(batch_size)\n",
        "  curr_num = 0\n",
        "  train_loader = []\n",
        "  print(len(train_dataset))\n",
        "  for (x, y) in train_dataset:\n",
        "    if curr_num > batch_size - 1:\n",
        "      train_loader.append((current_images, current_labels))\n",
        "      current_images = torch.zeros(batch_size, 3, 32, 32)\n",
        "      current_labels = torch.zeros(batch_size)\n",
        "      curr_num = 0\n",
        "\n",
        "    current_images[curr_num] = x\n",
        "    current_labels[curr_num] = y\n",
        "    curr_num += 1\n",
        "  return train_loader, test_loader\n",
        "\n",
        "def GetTestLoader(test_dataset, batch_size):\n",
        "  test_loader = torch.utils.data.DataLoader(test_dataset, batch_size=batch_size,\n",
        "                                              shuffle=False, drop_last=False)\n",
        "  return test_loader\n",
        "\n",
        "def GetCIFAR100ClassBalancedBatch():\n",
        "  class_ = list(np.random.randint(0, 100, batch_size))\n",
        "  batch_tensor = torch.zeros(batch_size, 3, 32, 32)\n",
        "  label_tensor = torch.zeros(batch_size)\n",
        "  for i in range(batch_size):\n",
        "    instance = np.random.randint(0, len(data_by_class[class_[i]]), 1)\n",
        "    batch_tensor[i] = data_by_class[class_[i]][instance[0]]\n",
        "    label_tensor[i] = class_[i]\n",
        "  \n",
        "  return (batch_tensor, label_tensor)\n",
        "    \n",
        "\n",
        "def GetCIFAR100SquareRootBatch():\n",
        "  distribution = [500] * 100\n",
        "  distribution[10:20] = [300] * 10\n",
        "  distribution[20:30] = [250] * 10\n",
        "  distribution[30:40] = [200] * 10\n",
        "  distribution[40:50] = [100] * 10\n",
        "  distribution[50:60] = [80] * 10\n",
        "  distribution[60:70] = [75] * 10\n",
        "  distribution[70:80] = [60] * 10\n",
        "  distribution[80:90] = [55] * 10\n",
        "  distribution[90:100] = [50] * 10\n",
        "\n",
        "  sqrt_dist = [distribution[i]**0.5 for i in range(len(distribution))]\n",
        "  denominator = sum(sqrt_dist)\n",
        "  probabilities = [sqrt_dist[i] / denominator for i in range(len(sqrt_dist))]\n",
        "  class_ = list(np.random.choice(100, batch_size, p = probabilities))\n",
        "  batch_tensor = torch.zeros(batch_size, 3, 32, 32)\n",
        "  label_tensor = torch.zeros(batch_size)\n",
        "  for i in range(batch_size):\n",
        "    instance = np.random.randint(0, len(data_by_class[class_[i]]), 1)\n",
        "    batch_tensor[i] = data_by_class[class_[i]][instance[0]]\n",
        "    label_tensor[i] = class_[i]\n",
        "  \n",
        "  return (batch_tensor, label_tensor)\n",
        "\n",
        "def GetCIFAR100ProgressiveBalancedBatch(t, T):\n",
        "  p_CB = 1/100\n",
        "  distribution = [500] * 100\n",
        "  distribution[10:20] = [300] * 10\n",
        "  distribution[20:30] = [250] * 10\n",
        "  distribution[30:40] = [200] * 10\n",
        "  distribution[40:50] = [100] * 10\n",
        "  distribution[50:60] = [80] * 10\n",
        "  distribution[60:70] = [75] * 10\n",
        "  distribution[70:80] = [60] * 10\n",
        "  distribution[80:90] = [55] * 10\n",
        "  distribution[90:100] = [50] * 10\n",
        "  denominator = sum(distribution)\n",
        "  probabilities = [distribution[i] / denominator for i in range(len(distribution))]\n",
        "  progressive_probs = [((1 - t/T) * probabilities[i] + t/T * p_CB) for i in range(len(probabilities))]\n",
        "  class_ = list(np.random.choice(100, batch_size, p = progressive_probs))\n",
        "  batch_tensor = torch.zeros(batch_size, 3, 32, 32)\n",
        "  label_tensor = torch.zeros(batch_size)\n",
        "  for i in range(batch_size):\n",
        "    instance = np.random.randint(0, len(data_by_class[class_[i]]), 1)\n",
        "    batch_tensor[i] = data_by_class[class_[i]][instance[0]]\n",
        "    label_tensor[i] = class_[i]\n",
        "  \n",
        "  return (batch_tensor, label_tensor)\n",
        "\n",
        "# Get Data Loaders for instance-balanced sampling (default)\n",
        "train_loader, test_loader = GetCIFARLoaders(imbalanced_cifar, test_dataset, 128)\n",
        "\n",
        "# Get Data Loader for class-balanced sampling method and square root sampling and progressive-balanced\n",
        "# test_loader = GetTestLoader(test_dataset, 128)"
      ]
    },
    {
      "cell_type": "markdown",
      "metadata": {
        "id": "KMFF0E4CgeHa"
      },
      "source": [
        "# Training Code"
      ]
    },
    {
      "cell_type": "code",
      "execution_count": 5,
      "metadata": {
        "id": "qr1D-gjCHLVr"
      },
      "outputs": [],
      "source": [
        "\n",
        "def save_model(model, file_name):\n",
        "    from torch import save\n",
        "    from os import path\n",
        "    print(\"saving\", file_name)\n",
        "    return save(model.state_dict(), file_name)\n",
        "\n",
        "def train_model(model_in, learning_rate = 1e-2, sampling = \"instance\", epochs = 25):\n",
        "  # Load ResNet50 from Torchvision and modify output layer for TinyImageSet\n",
        "  device = torch.device('cuda' if torch.cuda.is_available() else 'cpu')\n",
        "  print(device)\n",
        "  model = model_in\n",
        "  optimizer = torch.optim.Adam(model.parameters(), lr = learning_rate)\n",
        "  model = model.to(device)\n",
        "  loss_f = torch.nn.CrossEntropyLoss()\n",
        "  # If Tau Classifier Object\n",
        "  for epoch in range (epochs):\n",
        "    print(epoch)\n",
        "    model.train()\n",
        "\n",
        "    # Iterate through training set, collect loss values and update model\n",
        "    # Standard approach to Training\n",
        "    if (sampling == \"instance\"):\n",
        "      for im, truth_labels in train_loader:\n",
        "        truth_labels = truth_labels.type(torch.LongTensor)\n",
        "        im = im.to(device)\n",
        "        truth_labels = truth_labels.to(device)\n",
        "        predicted_labels = model(im)\n",
        "        predicted_labels = predicted_labels.to(device)\n",
        "        loss = loss_f(predicted_labels, truth_labels)\n",
        "        loss.backward()\n",
        "        optimizer.step()\n",
        "        optimizer.zero_grad()\n",
        "    # Different method for selecting batch using sampling method\n",
        "    else:\n",
        "      num_batches = len(imbalanced_cifar) // batch_size\n",
        "      for i in range(num_batches):\n",
        "        if (sampling == \"class\"):\n",
        "          im, truth_labels = GetCIFAR100ClassBalancedBatch()\n",
        "        elif (sampling == \"sqrt\"):\n",
        "          im, truth_labels = GetCIFAR100SquareRootBatch()\n",
        "        elif (sampling == \"progressive\"):\n",
        "          im, truth_labels = GetCIFAR100ProgressiveBalancedBatch(t = min(epoch * 2, epochs), T = epochs)\n",
        "        truth_labels = truth_labels.type(torch.LongTensor)\n",
        "        im = im.to(device)\n",
        "        truth_labels = truth_labels.to(device)\n",
        "        predicted_labels = model(im)\n",
        "        predicted_labels = predicted_labels.to(device)\n",
        "        loss = loss_f(predicted_labels, truth_labels)\n",
        "        loss.backward()\n",
        "        optimizer.step()\n",
        "        optimizer.zero_grad()\n",
        " \n",
        "    if epoch % 5 == 0:\n",
        "      if isinstance(model, TauClassifier):\n",
        "        print(\"Norm Tau Weights\")\n",
        "        model.tau_norm(0.5)\n",
        "      model.eval()\n",
        "      accuracies = []\n",
        "      for validation_im, validation_labels in test_loader:\n",
        "        validation_im = validation_im.to(device)\n",
        "        validation_labels = validation_labels.to(device)\n",
        "\n",
        "        predicted_labels = model(validation_im).argmax(1)\n",
        "        accuracy = (predicted_labels == validation_labels).float().mean().item()\n",
        "        accuracies.append(accuracy)\n",
        "      \n",
        "      validation_set_accuracy = torch.FloatTensor(accuracies).mean().item()\n",
        "      print(\"Epoch: \", epoch, \"Test Accuracy : \", validation_set_accuracy)\n",
        "      # save_model(model, 'det' + str(epoch) + sampling + '.th')\n",
        "\n",
        "  for validation_im, validation_labels in test_loader:\n",
        "      validation_im = validation_im.to(device)\n",
        "      validation_labels = validation_labels.to(device)\n",
        "\n",
        "      predicted_labels = model(validation_im).argmax(1)\n",
        "      accuracy = (predicted_labels == validation_labels).float().mean().item()\n",
        "      accuracies.append(accuracy)\n",
        "    \n",
        "  validation_set_accuracy = torch.FloatTensor(accuracies).mean().item()\n",
        "  print(\"Final Test Accuracy : \", validation_set_accuracy)"
      ]
    },
    {
      "cell_type": "markdown",
      "metadata": {
        "id": "OoUngKOBgzx-"
      },
      "source": [
        "# Joint Classifier Model Architecture"
      ]
    },
    {
      "cell_type": "code",
      "execution_count": 6,
      "metadata": {
        "id": "ysmz2yHgIzSB"
      },
      "outputs": [],
      "source": [
        "import torch\n",
        "import torchvision\n",
        "import torchvision.transforms as transforms\n",
        "\n",
        "class JointClassifier(torch.nn.Module):\n",
        "    def __init__(self, im_dim, num_class):\n",
        "        super().__init__()\n",
        "        self.backbone_nn = torchvision.models.resnext50_32x4d(pretrained=True, progress=True)\n",
        "        self.backbone_nn.fc = torch.nn.Linear(in_features=2048, out_features = 3 * im_dim * im_dim)\n",
        "        self.weights = torch.nn.Parameter(torch.ones(3 * im_dim * im_dim, num_class))\n",
        "        self.biases = torch.nn.Parameter(torch.ones(num_class))\n",
        "\n",
        "    def forward(self, x):\n",
        "        feature_representation = self.backbone_nn(x)\n",
        "        return feature_representation.matmul(self.weights) + self.biases\n",
        "      "
      ]
    },
    {
      "cell_type": "markdown",
      "metadata": {
        "id": "KjEBfGVodvyU"
      },
      "source": [
        "# Decoupled Classifier Model Architecture"
      ]
    },
    {
      "cell_type": "code",
      "execution_count": 7,
      "metadata": {
        "id": "s1a4CEAjeCKn"
      },
      "outputs": [],
      "source": [
        "import torch\n",
        "import torchvision\n",
        "import torchvision.transforms as transforms\n",
        "\n",
        "class CRTClassifier(torch.nn.Module):\n",
        "    def __init__(self, im_dim = 32, num_class = 10, sampling = \"instance\"):\n",
        "        super().__init__()\n",
        "        model = JointClassifier(im_dim, num_class)\n",
        "        model.load_state_dict(torch.load('det_' + sampling + '.th', map_location='cpu'))\n",
        "        self.backbone_nn = model.backbone_nn\n",
        "        for param in self.backbone_nn.parameters():\n",
        "            param.requires_grad = False\n",
        "        self.linear_layer = torch.nn.Linear(3072, num_class)\n",
        "\n",
        "    def forward(self, x):\n",
        "        feature_representation = self.backbone_nn(x)\n",
        "        return self.linear_layer(feature_representation)\n",
        "\n",
        "class TauClassifier(torch.nn.Module):\n",
        "    def __init__(self, im_dim = 32, num_class = 10, sampling = \"instance\"):\n",
        "        super().__init__()\n",
        "        model = JointClassifier(im_dim, num_class)\n",
        "        model.load_state_dict(torch.load('det_' + sampling + '.th', map_location='cpu'))\n",
        "        self.backbone_nn = model.backbone_nn\n",
        "        for param in self.backbone_nn.parameters():\n",
        "            param.requires_grad = False\n",
        "        self.weights = torch.nn.Parameter(torch.ones(3 * im_dim * im_dim, num_class))\n",
        "\n",
        "    def tau_norm(self, tau):\n",
        "        for j in range(self.weights.size(1)):\n",
        "          self.weights.data[:, j]  = self.weights[:, j] / ((self.weights[:, j].norm())**tau)\n",
        "\n",
        "    def forward(self, x):\n",
        "        feature_representation = self.backbone_nn(x)\n",
        "        return feature_representation.matmul(self.weights)"
      ]
    },
    {
      "cell_type": "markdown",
      "metadata": {
        "id": "qXYb2CfL1KXk"
      },
      "source": [
        "# Test out Joint Training Method for Different Sampling Methods"
      ]
    },
    {
      "cell_type": "code",
      "execution_count": null,
      "metadata": {
        "id": "Qnxsb5Yvwzz1"
      },
      "outputs": [],
      "source": [
        "# Load ResNeXt Architecture, Combine with Classifier and Train for 70 Epochs with Instance Sampling\n",
        "# 30 Epochs For Joint Training\n",
        "\n",
        "joint_classifier = JointClassifier(32, 100)\n",
        "batch_size = 128\n",
        "# To test Instance-balanced sampling - 0.2690\n",
        "# train_model(joint_classifier, learning_rate = 1e-3, sampling = \"instance\", epochs = 30)\n",
        "\n",
        "# To test Class-balanced sampling - 0.2708\n",
        "# train_model(joint_classifier, learning_rate = 1e-3, sampling = \"class\", epochs = 30)\n",
        "\n",
        "# To Test Square Root Sampling - 0.3089 \n",
        "# train_model(joint_classifier, learning_rate = 1e-3, sampling = \"sqrt\", epochs = 30)\n",
        "\n",
        "# To Test Progressively-Balanced Sampling - 0.2955\n",
        "# train_model(joint_classifier, learning_rate = 1e-3, sampling = \"progressive\", epochs = 30)"
      ]
    },
    {
      "cell_type": "markdown",
      "metadata": {
        "id": "TtaBSwlFOuAi"
      },
      "source": [
        "# Test out Decoupling Method with cRT Classifier"
      ]
    },
    {
      "cell_type": "code",
      "execution_count": null,
      "metadata": {
        "id": "8WeGeqGm1iOp"
      },
      "outputs": [],
      "source": [
        "# Adjust Sampling Argument to name of Sampling Strategy used to Learn Representations\n",
        "crt_classifier = CRTClassifier(32, 100, sampling = \"instance\")\n",
        "\n",
        "# Instance-balanced for crt - 0.3245\n",
        "# train_model(crt_classifier, learning_rate = 1e-3, sampling = \"instance\", epochs = 15)\n",
        "\n",
        "# Class-balanced for crt - 0.3017\n",
        "# train_model(crt_classifier, learning_rate = 1e-3, sampling = \"class\", epochs = 15)\n",
        "\n",
        "# Sqrt Sampling for crt - 0.3204\n",
        "# train_model(crt_classifier, learning_rate = 1e-3, sampling = \"sqrt\", epochs = 15)\n",
        "\n",
        "# Progressively balanced for crt - 0.3150\n",
        "# train_model(crt_classifier, learning_rate = 1e-3, sampling = \"progressive\", epochs = 15)"
      ]
    },
    {
      "cell_type": "markdown",
      "metadata": {
        "id": "2EnElfp4bHy3"
      },
      "source": [
        "# Test out Decoupling Method with Tau-Norm Classifier"
      ]
    },
    {
      "cell_type": "code",
      "execution_count": null,
      "metadata": {
        "id": "aL-8VG_FRFFJ"
      },
      "outputs": [],
      "source": [
        "# Adjust Sampling Argument to name of Sampling Strategy used to Learn Representations\n",
        "tau_classifier = TauClassifier(32, 100, sampling = \"instance\")\n",
        "\n",
        "# Instance-balanced for tau - 0.3224\n",
        "# train_model(tau_classifier, learning_rate = 1e-3, sampling = \"instance\", epochs = 10)\n",
        "\n",
        "# Class-balanced for tau - 0.3062\n",
        "# train_model(tau_classifier, learning_rate = 1e-3, sampling = \"class\", epochs = 10)\n",
        "\n",
        "# Sqrt Sampling for tau - 0.3165\n",
        "# train_model(tau_classifier, learning_rate = 1e-3, sampling = \"sqrt\", epochs = 10)\n",
        "\n",
        "# Progressive-balanced for tau - 0.3107\n",
        "# train_model(tau_classifier, learning_rate = 1e-3, sampling = \"progressive\", epochs = 10)"
      ]
    },
    {
      "cell_type": "markdown",
      "metadata": {
        "id": "ULrA1QS0g53W"
      },
      "source": [
        "# Joint Classifer Draw Diagrams - Display Results"
      ]
    },
    {
      "cell_type": "code",
      "execution_count": null,
      "metadata": {
        "id": "2R_oQuAWaMsF"
      },
      "outputs": [],
      "source": [
        "!pip install tabulate"
      ]
    },
    {
      "cell_type": "code",
      "execution_count": null,
      "metadata": {
        "colab": {
          "base_uri": "https://localhost:8080/"
        },
        "id": "ksWmH_VfaXzz",
        "outputId": "d61fa891-6692-4aaa-f5dd-54904ae4835d"
      },
      "outputs": [
        {
          "name": "stdout",
          "output_type": "stream",
          "text": [
            "╒════════════════════════╤══════════════════╕\n",
            "│ Joint Training         │   Top-1 Accuracy │\n",
            "╞════════════════════════╪══════════════════╡\n",
            "│ Instance-balanced      │           0.269  │\n",
            "├────────────────────────┼──────────────────┤\n",
            "│ Class-balanced         │           0.2708 │\n",
            "├────────────────────────┼──────────────────┤\n",
            "│ Square-Root            │           0.3089 │\n",
            "├────────────────────────┼──────────────────┤\n",
            "│ Progressively-balanced │           0.2955 │\n",
            "╘════════════════════════╧══════════════════╛\n"
          ]
        }
      ],
      "source": [
        "from tabulate import tabulate\n",
        "\n",
        "# Joint Training Approach Results\n",
        "# Batch size = 128, learning rate = 1e-3, epochs = 30, ResNeXT Backbone Network\n",
        "table = [['Joint Training', 'Top-1 Accuracy'], ['Instance-balanced', 0.2690], \n",
        "         ['Class-balanced', 0.2708], ['Square-Root', 0.3089], ['Progressively-balanced', 0.2955]]\n",
        "print(tabulate(table, headers='firstrow', tablefmt='fancy_grid'))"
      ]
    },
    {
      "cell_type": "code",
      "execution_count": 2,
      "metadata": {
        "colab": {
          "base_uri": "https://localhost:8080/",
          "height": 303
        },
        "id": "R6y47xROdPYl",
        "outputId": "cf4e1da5-0164-4b23-86ca-2262c65c1b5d"
      },
      "outputs": [
        {
          "data": {
            "image/png": "[encoded data removed]",
            "text/plain": [
              "<Figure size 432x288 with 1 Axes>"
            ]
          },
          "metadata": {
            "needs_background": "light"
          },
          "output_type": "display_data"
        }
      ],
      "source": [
        "import matplotlib.pyplot as plt\n",
        "\n",
        "learning_rate = [\"Instance\", \"Class\", \"Square-Root\", \"Progressive\"]\n",
        "final_test_accuracies = [0.2690, 0.2708, 0.3089, 0.2955]\n",
        "\n",
        "axes = plt.gca()\n",
        "plt.plot(learning_rate, final_test_accuracies)\n",
        "plt.title(\"Accuracy vs Sampling Method - Joint Training, CIFAR-100\")\n",
        "plt.xlabel('Sampling Method', fontsize = 18)\n",
        "plt.ylabel('Top-1 Accuracy', fontsize = 18)\n",
        "plt.show()"
      ]
    },
    {
      "cell_type": "markdown",
      "metadata": {
        "id": "7e8MspsphAQN"
      },
      "source": [
        "# Decoupling Methods Draw Diagrams - Display Results"
      ]
    },
    {
      "cell_type": "code",
      "execution_count": null,
      "metadata": {
        "colab": {
          "base_uri": "https://localhost:8080/"
        },
        "id": "oPCeAON7hF2E",
        "outputId": "363947b7-04a4-4e3c-91d9-7754de011506"
      },
      "outputs": [
        {
          "name": "stdout",
          "output_type": "stream",
          "text": [
            "╒════════════════════════╤══════════════════╕\n",
            "│ cRT                    │   Top-1 Accuracy │\n",
            "╞════════════════════════╪══════════════════╡\n",
            "│ Instance-balanced      │           0.3245 │\n",
            "├────────────────────────┼──────────────────┤\n",
            "│ Class-balanced         │           0.3017 │\n",
            "├────────────────────────┼──────────────────┤\n",
            "│ Square-Root            │           0.3204 │\n",
            "├────────────────────────┼──────────────────┤\n",
            "│ Progressively-balanced │           0.315  │\n",
            "╘════════════════════════╧══════════════════╛\n"
          ]
        }
      ],
      "source": [
        "# cRT Training Approach Results\n",
        "# Batch size = 128, learning rate = 1e-3, epochs = 15, ResNeXT Backbone Network\n",
        "table = [['cRT', 'Top-1 Accuracy'], ['Instance-balanced', 0.3245], \n",
        "         ['Class-balanced', 0.3017], ['Square-Root', 0.3204], ['Progressively-balanced', 0.3150]]\n",
        "print(tabulate(table, headers='firstrow', tablefmt='fancy_grid'))"
      ]
    },
    {
      "cell_type": "code",
      "execution_count": null,
      "metadata": {
        "colab": {
          "base_uri": "https://localhost:8080/"
        },
        "id": "lMnOsAiAhoKx",
        "outputId": "b3b09937-3f7d-4848-910c-9ab25d319884"
      },
      "outputs": [
        {
          "name": "stdout",
          "output_type": "stream",
          "text": [
            "╒════════════════════════╤══════════════════╕\n",
            "│ Tau-Norm               │   Top-1 Accuracy │\n",
            "╞════════════════════════╪══════════════════╡\n",
            "│ Instance-balanced      │           0.3224 │\n",
            "├────────────────────────┼──────────────────┤\n",
            "│ Class-balanced         │           0.3062 │\n",
            "├────────────────────────┼──────────────────┤\n",
            "│ Square-Root            │           0.3165 │\n",
            "├────────────────────────┼──────────────────┤\n",
            "│ Progressively-balanced │           0.3107 │\n",
            "╘════════════════════════╧══════════════════╛\n"
          ]
        }
      ],
      "source": [
        "# Tau-Norm Training Approach Results\n",
        "# Batch size = 128, learning rate = 1e-3, epochs = 15, ResNeXT Backbone Network\n",
        "table = [['Tau-Norm', 'Top-1 Accuracy'], ['Instance-balanced', 0.3224], \n",
        "         ['Class-balanced', 0.3062], ['Square-Root', 0.3165], ['Progressively-balanced', 0.3107]]\n",
        "print(tabulate(table, headers='firstrow', tablefmt='fancy_grid'))"
      ]
    },
    {
      "cell_type": "code",
      "execution_count": 6,
      "metadata": {
        "colab": {
          "base_uri": "https://localhost:8080/",
          "height": 303
        },
        "id": "nwG7G6Jzh7mC",
        "outputId": "875dadeb-3de1-419f-d820-c8f9a8b89629"
      },
      "outputs": [
        {
          "data": {
            "image/png": "[encoded data removed]",
            "text/plain": [
              "<Figure size 432x288 with 1 Axes>"
            ]
          },
          "metadata": {
            "needs_background": "light"
          },
          "output_type": "display_data"
        }
      ],
      "source": [
        "sampling_method = [\"Instance\", \"Class\", \"Square-Root\", \"Progressive\"]\n",
        "joint_test_accuracies = [0.2690, 0.2708, 0.3089, 0.2955]\n",
        "cRT_test_accuracies = [0.3245, 0.3017, 0.3204, 0.315]\n",
        "tau_norm_accuracies = [0.3224, 0.3062, 0.3165, 0.3107]\n",
        "\n",
        "axes = plt.gca()\n",
        "plt.plot(sampling_method, joint_test_accuracies, '-bo')\n",
        "plt.plot(sampling_method, cRT_test_accuracies, '-rx')\n",
        "plt.plot(sampling_method, tau_norm_accuracies, '-g*')\n",
        "plt.title(\"Accuracy vs Sampling Method - All Results, CIFAR-100\")\n",
        "plt.xlabel('Sampling Method', fontsize = 18)\n",
        "plt.ylabel('Top-1 Accuracy', fontsize = 18)\n",
        "plt.legend([\"Joint\", \"cRT\", \"Tau\"])\n",
        "plt.show()"
      ]
    }
  ],
  "metadata": {
    "accelerator": "GPU",
    "colab": {
      "collapsed_sections": [],
      "name": "DecouplingLearningAndClassifierCIFAR100.ipynb",
      "provenance": []
    },
    "kernelspec": {
      "display_name": "Python 3",
      "name": "python3"
    },
    "language_info": {
      "name": "python"
    }
  },
  "nbformat": 4,
  "nbformat_minor": 0
}
