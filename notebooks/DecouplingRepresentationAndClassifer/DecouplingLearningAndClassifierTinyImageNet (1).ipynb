{
  "nbformat": 4,
  "nbformat_minor": 0,
  "metadata": {
    "accelerator": "GPU",
    "colab": {
      "name": "DecouplingLearningAndClassifierTinyImageNet.ipynb",
      "provenance": [],
      "collapsed_sections": [
        "qXYb2CfL1KXk",
        "TtaBSwlFOuAi"
      ]
    },
    "kernelspec": {
      "display_name": "Python 3",
      "name": "python3"
    },
    "language_info": {
      "name": "python"
    }
  },
  "cells": [
    {
      "cell_type": "markdown",
      "metadata": {
        "id": "HIHJcdUfjmv1"
      },
      "source": [
        "Notebook specific for Decoupling Learning and Classifier Experiments on the Caltech 101 Dataset"
      ]
    },
    {
      "cell_type": "markdown",
      "metadata": {
        "id": "l-Obdu2nK_79"
      },
      "source": [
        "# Load Dataset and Construct Long-Tailed Data"
      ]
    },
    {
      "cell_type": "code",
      "metadata": {
        "id": "lkdkL08am-Wd"
      },
      "source": [
        "!wget http://cs231n.stanford.edu/tiny-imagenet-200.zip\n",
        "!unzip -qq 'tiny-imagenet-200.zip'"
      ],
      "execution_count": null,
      "outputs": []
    },
    {
      "cell_type": "code",
      "metadata": {
        "id": "IDNMKHL7MDFW"
      },
      "source": [
        "import os\n",
        "import numpy as np\n",
        "import torch\n",
        "import torch.nn.functional as F\n",
        "import torch.optim as optim\n",
        "from torchvision import datasets, transforms\n",
        "from PIL import Image\n",
        "\n",
        "dataset = 'tinyimagenet'\n",
        "data_root = 'data'\n",
        "data_root = os.path.abspath(os.path.expanduser(data_root))\n",
        "root_dir = os.path.join(data_root, dataset)\n",
        "transform_train = transforms.Compose([\n",
        "        transforms.RandomHorizontalFlip(p = 0.5),\n",
        "        transforms.ColorJitter(brightness=0.5, hue = 0.25),\n",
        "        transforms.ToTensor(),\n",
        "      ])\n",
        "\n",
        "transform_test = transforms.Compose([\n",
        "        transforms.ToTensor(),\n",
        "      ])\n",
        "\n",
        "val_img_dir = './tiny-imagenet-200/val/images'\n",
        "if os.path.exists(val_img_dir):\n",
        "    print(\"FIX\")\n",
        "    data = open('./tiny-imagenet-200/val/val_annotations.txt', 'r').readlines()\n",
        "    val_img_dict = {}\n",
        "    for line in data:\n",
        "        words = line.split('\\t')\n",
        "        val_img_dict[words[0]] = words[1]\n",
        "\n",
        "    for img, folder in val_img_dict.items():\n",
        "        new_dir = f'./tiny-imagenet-200/val/{folder}'\n",
        "        os.makedirs(new_dir, exist_ok=True)\n",
        "        old_file = f'{val_img_dir}/{img}'\n",
        "        if os.path.exists(old_file):\n",
        "            os.rename(old_file, f'{new_dir}/{img}')\n",
        "\n",
        "    import shutil\n",
        "    shutil.rmtree(val_img_dir)\n",
        "train_dataset = datasets.ImageFolder(root='./tiny-imagenet-200/train', transform=transform_train)\n",
        "test_dataset = datasets.ImageFolder(root='./tiny-imagenet-200/val', transform=transform_test)\n",
        "\n"
      ],
      "execution_count": null,
      "outputs": []
    },
    {
      "cell_type": "code",
      "metadata": {
        "id": "Q2FMmOF8ftbY"
      },
      "source": [
        "# This code section samples training examples from the full train_dataset folowing some long-tail\n",
        "# distribution\n",
        "# batch_size = 128\n",
        "\n",
        "def Imbalance_TinyImageNet(train_dataset):\n",
        "  # Goal Long-tail distribution\n",
        "  distribution = [500] * 200\n",
        "  distribution[20:40] = [300] * 20\n",
        "  distribution[40:60] = [250] * 20\n",
        "  distribution[60:80] = [200] * 20\n",
        "  distribution[80:100] = [100] * 20\n",
        "  distribution[100:120] = [80] * 20\n",
        "  distribution[120:140] = [75] * 20\n",
        "  distribution[140:160] = [60] * 20\n",
        "  distribution[160:180] = [55] * 20\n",
        "  distribution[180:200] = [50] * 20\n",
        "  print(len(distribution), distribution)\n",
        "  train_set = []\n",
        "  # First obtain the imbalanced data and aggregate in a list\n",
        "  for (image, label) in train_dataset:\n",
        "    # print(label)\n",
        "    if distribution[label] <= 0:\n",
        "      continue;\n",
        "\n",
        "    train_set.append((image, label))\n",
        "    distribution[label] -= 1\n",
        "  return train_set\n",
        "\n",
        "imbalanced_tinyimagenet = Imbalance_TinyImageNet(train_dataset)"
      ],
      "execution_count": null,
      "outputs": []
    },
    {
      "cell_type": "code",
      "metadata": {
        "colab": {
          "base_uri": "https://localhost:8080/",
          "height": 352
        },
        "id": "LBVUjcCUsKL2",
        "outputId": "30929d27-4f1c-4bc4-b0ea-c0b7afdda68a"
      },
      "source": [
        "import matplotlib.pyplot as plt\n",
        "\n",
        "# Sanity Check to see if Imbalancing was actually done\n",
        "distribution = [0] * 200\n",
        "for (x, y) in imbalanced_tinyimagenet:\n",
        "  distribution[y] += 1\n",
        "\n",
        "fig = plt.figure()\n",
        "ax = fig.add_axes([0,0,1,1])\n",
        "classes = [i for i in range(200)]\n",
        "freqs = distribution\n",
        "ax.bar(classes,freqs)\n",
        "ax.set_title('TinyImageNet Distribution After Imbalancing')\n",
        "plt.show()"
      ],
      "execution_count": 4,
      "outputs": [
        {
          "output_type": "display_data",
          "data": {
            "image/png": "[encoded data removed]",
            "text/plain": [
              "<Figure size 432x288 with 1 Axes>"
            ]
          },
          "metadata": {
            "needs_background": "light"
          }
        }
      ]
    },
    {
      "cell_type": "markdown",
      "metadata": {
        "id": "yvIoLddTeMSa"
      },
      "source": [
        "# Loaders Code for Different Sampling Methods"
      ]
    },
    {
      "cell_type": "code",
      "metadata": {
        "id": "9u1Yq_O4uJTR"
      },
      "source": [
        "from random import shuffle\n",
        "import numpy as np\n",
        "\n",
        "data_by_class = {}\n",
        "for (x, y) in imbalanced_tinyimagenet:\n",
        "  if y not in data_by_class:\n",
        "    data_by_class[y] = []\n",
        "\n",
        "  data_by_class[y].append(x)\n",
        "\n",
        "def GetTinyImageNetLoaders(train_dataset, test_dataset, batch_size):\n",
        "  test_loader = torch.utils.data.DataLoader(test_dataset, batch_size=batch_size,\n",
        "                                              shuffle=False, drop_last=False)\n",
        "  shuffle(train_dataset)\n",
        "  current_images = torch.zeros(batch_size, 3, 64, 64)\n",
        "  current_labels = torch.zeros(batch_size)\n",
        "  curr_num = 0\n",
        "  train_loader = []\n",
        "  print(len(train_dataset))\n",
        "  for (x, y) in train_dataset:\n",
        "    if curr_num > batch_size - 1:\n",
        "      train_loader.append((current_images, current_labels))\n",
        "      current_images = torch.zeros(batch_size, 3, 64, 64)\n",
        "      current_labels = torch.zeros(batch_size)\n",
        "      curr_num = 0\n",
        "\n",
        "    current_images[curr_num] = x\n",
        "    current_labels[curr_num] = y\n",
        "    curr_num += 1\n",
        "  return train_loader, test_loader\n",
        "\n",
        "def GetTestLoader(test_dataset, batch_size):\n",
        "  test_loader = torch.utils.data.DataLoader(test_dataset, batch_size=batch_size,\n",
        "                                              shuffle=False, drop_last=False)\n",
        "  return test_loader\n",
        "\n",
        "def GetTinyImageNetClassBalancedBatch():\n",
        "  class_ = list(np.random.randint(0, 200, batch_size))\n",
        "  batch_tensor = torch.zeros(batch_size, 3, 64, 64)\n",
        "  label_tensor = torch.zeros(batch_size)\n",
        "  \n",
        "  for i in range(batch_size):\n",
        "    instance = np.random.randint(0, len(data_by_class[class_[i]]), 1)\n",
        "    batch_tensor[i] = data_by_class[class_[i]][instance[0]]\n",
        "    label_tensor[i] = class_[i]\n",
        "  \n",
        "  return (batch_tensor, label_tensor)\n",
        "    \n",
        "\n",
        "def GetTinyImageNetSquareRootBatch():\n",
        "  distribution = [500] * 200\n",
        "  distribution[20:40] = [300] * 20\n",
        "  distribution[40:60] = [250] * 20\n",
        "  distribution[60:80] = [200] * 20\n",
        "  distribution[80:100] = [100] * 20\n",
        "  distribution[100:120] = [80] * 20\n",
        "  distribution[120:140] = [75] * 20\n",
        "  distribution[140:160] = [60] * 20\n",
        "  distribution[160:180] = [55] * 20\n",
        "  distribution[180:200] = [50] * 20\n",
        "\n",
        "  sqrt_dist = [distribution[i]**0.5 for i in range(len(distribution))]\n",
        "  denominator = sum(sqrt_dist)\n",
        "  probabilities = [sqrt_dist[i] / denominator for i in range(len(sqrt_dist))]\n",
        "  class_ = list(np.random.choice(200, batch_size, p = probabilities))\n",
        "  batch_tensor = torch.zeros(batch_size, 3, 64, 64)\n",
        "  label_tensor = torch.zeros(batch_size)\n",
        "  for i in range(batch_size):\n",
        "    instance = np.random.randint(0, len(data_by_class[class_[i]]), 1)\n",
        "    batch_tensor[i] = data_by_class[class_[i]][instance[0]]\n",
        "    label_tensor[i] = class_[i]\n",
        "  \n",
        "  return (batch_tensor, label_tensor)\n",
        "\n",
        "def GetTinyImageNetProgressiveBalancedBatch(t, T):\n",
        "  p_CB = 1/200\n",
        "  distribution = [500] * 200\n",
        "  distribution[20:40] = [300] * 20\n",
        "  distribution[40:60] = [250] * 20\n",
        "  distribution[60:80] = [200] * 20\n",
        "  distribution[80:100] = [100] * 20\n",
        "  distribution[100:120] = [80] * 20\n",
        "  distribution[120:140] = [75] * 20\n",
        "  distribution[140:160] = [60] * 20\n",
        "  distribution[160:180] = [55] * 20\n",
        "  distribution[180:200] = [50] * 20\n",
        "  denominator = sum(distribution)\n",
        "  probabilities = [distribution[i] / denominator for i in range(len(distribution))]\n",
        "  progressive_probs = [((1 - t/T) * probabilities[i] + t/T * p_CB) for i in range(len(probabilities))]\n",
        "  class_ = list(np.random.choice(200, batch_size, p = progressive_probs))\n",
        "  batch_tensor = torch.zeros(batch_size, 3, 64, 64)\n",
        "  label_tensor = torch.zeros(batch_size)\n",
        "  for i in range(batch_size):\n",
        "    instance = np.random.randint(0, len(data_by_class[class_[i]]), 1)\n",
        "    batch_tensor[i] = data_by_class[class_[i]][instance[0]]\n",
        "    label_tensor[i] = class_[i]\n",
        "  \n",
        "  return (batch_tensor, label_tensor)\n",
        "\n",
        "# Get Data Loaders for instance-balanced sampling (default)\n",
        "train_loader, test_loader = GetTinyImageNetLoaders(imbalanced_tinyimagenet, test_dataset, 128)\n",
        "\n",
        "# Get Data Loader for class-balanced sampling method and square root sampling and progressive-balanced\n",
        "# test_loader = GetTestLoader(test_dataset, 128)"
      ],
      "execution_count": null,
      "outputs": []
    },
    {
      "cell_type": "markdown",
      "metadata": {
        "id": "KMFF0E4CgeHa"
      },
      "source": [
        "# Training Code"
      ]
    },
    {
      "cell_type": "code",
      "metadata": {
        "id": "qr1D-gjCHLVr"
      },
      "source": [
        "\n",
        "def save_model(model, file_name):\n",
        "    from torch import save\n",
        "    from os import path\n",
        "    print(\"saving\", file_name)\n",
        "    return save(model.state_dict(), file_name)\n",
        "\n",
        "def train_model(model_in, learning_rate = 1e-2, sampling = \"instance\", epochs = 25):\n",
        "  # Load ResNet50 from Torchvision and modify output layer for TinyImageSet\n",
        "  device = torch.device('cuda' if torch.cuda.is_available() else 'cpu')\n",
        "  print(device)\n",
        "  model = model_in\n",
        "  optimizer = torch.optim.Adam(model.parameters(), lr = learning_rate)\n",
        "  model = model.to(device)\n",
        "  loss_f = torch.nn.CrossEntropyLoss()\n",
        "  # If Tau Classifier Object\n",
        "  for epoch in range (epochs):\n",
        "    print(epoch)\n",
        "    model.train()\n",
        "\n",
        "    # Iterate through training set, collect loss values and update model\n",
        "    # Standard approach to Training\n",
        "    if (sampling == \"instance\"):\n",
        "      for im, truth_labels in train_loader:\n",
        "        truth_labels = truth_labels.type(torch.LongTensor)\n",
        "        im = im.to(device)\n",
        "        truth_labels = truth_labels.to(device)\n",
        "        predicted_labels = model(im)\n",
        "        predicted_labels = predicted_labels.to(device)\n",
        "        loss = loss_f(predicted_labels, truth_labels)\n",
        "        loss.backward()\n",
        "        optimizer.step()\n",
        "        optimizer.zero_grad()\n",
        "        \n",
        "    # Different method for selecting batch using sampling method\n",
        "    else:\n",
        "      num_batches = len(imbalanced_tinyimagenet) // batch_size\n",
        "      for i in range(num_batches):\n",
        "        if (sampling == \"class\"):\n",
        "          im, truth_labels = GetTinyImageNetClassBalancedBatch()\n",
        "        elif (sampling == \"sqrt\"):\n",
        "          im, truth_labels = GetTinyImageNetSquareRootBatch()\n",
        "        elif (sampling == \"progressive\"):\n",
        "          im, truth_labels = GetTinyImageNetProgressiveBalancedBatch(t = min(epoch * 2, epochs), T = epochs)\n",
        "        truth_labels = truth_labels.type(torch.LongTensor)\n",
        "        im = im.to(device)\n",
        "        truth_labels = truth_labels.to(device)\n",
        "        predicted_labels = model(im)\n",
        "        predicted_labels = predicted_labels.to(device)\n",
        "        loss = loss_f(predicted_labels, truth_labels)\n",
        "        loss.backward()\n",
        "        optimizer.step()\n",
        "        optimizer.zero_grad()\n",
        " \n",
        "    if epoch % 5 == 0:\n",
        "      if isinstance(model, TauClassifier):\n",
        "        print(\"Norm Tau Weights\")\n",
        "        model.tau_norm(0.7)\n",
        "      model.eval()\n",
        "      accuracies = []\n",
        "      for validation_im, validation_labels in test_loader:\n",
        "        validation_im = validation_im.to(device)\n",
        "        validation_labels = validation_labels.to(device)\n",
        "\n",
        "        predicted_labels = model(validation_im).argmax(1)\n",
        "        accuracy = (predicted_labels == validation_labels).float().mean().item()\n",
        "        accuracies.append(accuracy)\n",
        "      \n",
        "      validation_set_accuracy = torch.FloatTensor(accuracies).mean().item()\n",
        "      print(\"Epoch: \", epoch, \"Test Accuracy : \", validation_set_accuracy)\n",
        "      # save_model(model, 'det' + str(epoch) + sampling + '.th')\n",
        "\n",
        "  for validation_im, validation_labels in test_loader:\n",
        "      validation_im = validation_im.to(device)\n",
        "      validation_labels = validation_labels.to(device)\n",
        "\n",
        "      predicted_labels = model(validation_im).argmax(1)\n",
        "      accuracy = (predicted_labels == validation_labels).float().mean().item()\n",
        "      accuracies.append(accuracy)\n",
        "    \n",
        "  validation_set_accuracy = torch.FloatTensor(accuracies).mean().item()\n",
        "  print(\"Final Test Accuracy : \", validation_set_accuracy)"
      ],
      "execution_count": 26,
      "outputs": []
    },
    {
      "cell_type": "markdown",
      "metadata": {
        "id": "OoUngKOBgzx-"
      },
      "source": [
        "# Joint Classifier Model Architecture"
      ]
    },
    {
      "cell_type": "code",
      "metadata": {
        "id": "ysmz2yHgIzSB"
      },
      "source": [
        "import torch\n",
        "import torchvision\n",
        "import torchvision.transforms as transforms\n",
        "\n",
        "class JointClassifier(torch.nn.Module):\n",
        "    def __init__(self, im_dim, num_class):\n",
        "        super().__init__()\n",
        "        self.backbone_nn = torchvision.models.resnext50_32x4d(pretrained=True, progress=True)\n",
        "        self.backbone_nn.fc = torch.nn.Linear(in_features=2048, out_features = 3 * im_dim * im_dim)\n",
        "        self.weights = torch.nn.Parameter(torch.ones(3 * im_dim * im_dim, num_class))\n",
        "        self.biases = torch.nn.Parameter(torch.ones(num_class))\n",
        "\n",
        "    def forward(self, x):\n",
        "        feature_representation = self.backbone_nn(x)\n",
        "        return feature_representation.matmul(self.weights) + self.biases\n",
        "      "
      ],
      "execution_count": 11,
      "outputs": []
    },
    {
      "cell_type": "markdown",
      "metadata": {
        "id": "KjEBfGVodvyU"
      },
      "source": [
        "# Decoupled Classifier Model Architecture"
      ]
    },
    {
      "cell_type": "code",
      "metadata": {
        "id": "s1a4CEAjeCKn"
      },
      "source": [
        "import torch\n",
        "import torchvision\n",
        "import torchvision.transforms as transforms\n",
        "\n",
        "class CRTClassifier(torch.nn.Module):\n",
        "    def __init__(self, im_dim = 32, num_class = 10, sampling = \"instance\"):\n",
        "        super().__init__()\n",
        "        model = JointClassifier(im_dim, num_class)\n",
        "        model.load_state_dict(torch.load('det_' + sampling + '.th', map_location='cpu'))\n",
        "        self.backbone_nn = model.backbone_nn\n",
        "        for param in self.backbone_nn.parameters():\n",
        "            param.requires_grad = False\n",
        "        self.linear_layer = torch.nn.Linear(3 * im_dim * im_dim, num_class)\n",
        "\n",
        "    def forward(self, x):\n",
        "        feature_representation = self.backbone_nn(x)\n",
        "        return self.linear_layer(feature_representation)\n",
        "\n",
        "class TauClassifier(torch.nn.Module):\n",
        "    def __init__(self, im_dim = 32, num_class = 10, sampling = \"instance\"):\n",
        "        super().__init__()\n",
        "        model = JointClassifier(im_dim, num_class)\n",
        "        model.load_state_dict(torch.load('det_' + sampling + '.th', map_location='cpu'))\n",
        "        self.backbone_nn = model.backbone_nn\n",
        "        for param in self.backbone_nn.parameters():\n",
        "            param.requires_grad = False\n",
        "        self.weights = torch.nn.Parameter(torch.ones(3 * im_dim * im_dim, num_class))\n",
        "\n",
        "    def tau_norm(self, tau):\n",
        "        for j in range(self.weights.size(1)):\n",
        "          self.weights.data[:, j]  = self.weights[:, j] / ((self.weights[:, j].norm())**tau)\n",
        "\n",
        "    def forward(self, x):\n",
        "        feature_representation = self.backbone_nn(x)\n",
        "        return feature_representation.matmul(self.weights)"
      ],
      "execution_count": 27,
      "outputs": []
    },
    {
      "cell_type": "markdown",
      "metadata": {
        "id": "qXYb2CfL1KXk"
      },
      "source": [
        "# Test out Joint Training Method for Different Sampling Methods"
      ]
    },
    {
      "cell_type": "code",
      "metadata": {
        "id": "Qnxsb5Yvwzz1"
      },
      "source": [
        "# 30 Epochs For Joint Training\n",
        "joint_classifier = JointClassifier(64, 200)\n",
        "batch_size = 128\n",
        "# To test Instance-balanced sampling - 0.1775\n",
        "# train_model(joint_classifier, learning_rate = 1e-3, sampling = \"instance\", epochs = 5)\n",
        "\n",
        "# To test Class-balanced sampling - 0.1799\n",
        "# train_model(joint_classifier, learning_rate = 1e-3, sampling = \"class\", epochs = 5)\n",
        "\n",
        "# To Test Square Root Sampling - 0.1904\n",
        "# train_model(joint_classifier, learning_rate = 1e-3, sampling = \"sqrt\", epochs = 5)\n",
        "\n",
        "# To Test Progressively-Balanced Sampling - 0.1844\n",
        "# train_model(joint_classifier, learning_rate = 1e-3, sampling = \"progressive\", epochs = 5)"
      ],
      "execution_count": null,
      "outputs": []
    },
    {
      "cell_type": "markdown",
      "metadata": {
        "id": "TtaBSwlFOuAi"
      },
      "source": [
        "# Test out Decoupling Method with cRT Classifier"
      ]
    },
    {
      "cell_type": "code",
      "metadata": {
        "id": "8WeGeqGm1iOp"
      },
      "source": [
        "# Adjust Sampling Argument to name of Sampling Strategy used to Learn Representations\n",
        "crt_classifier = CRTClassifier(64, 200, sampling = \"\")\n",
        "\n",
        "# Instance-balanced for crt - 0.2918\n",
        "# train_model(crt_classifier, learning_rate = 1e-3, sampling = \"instance\", epochs = 5)\n",
        "\n",
        "# Class-balanced for crt - 0.2770\n",
        "# train_model(crt_classifier, learning_rate = 1e-3, sampling = \"class\", epochs = 5)\n",
        "\n",
        "# Sqrt Sampling for crt - 0.2861\n",
        "# train_model(crt_classifier, learning_rate = 1e-3, sampling = \"sqrt\", epochs = 5)\n",
        "\n",
        "# Progressively balanced for crt - 0.2830\n",
        "# train_model(crt_classifier, learning_rate = 1e-3, sampling = \"progressive\", epochs = 5)"
      ],
      "execution_count": null,
      "outputs": []
    },
    {
      "cell_type": "markdown",
      "metadata": {
        "id": "2EnElfp4bHy3"
      },
      "source": [
        "# Test out Decoupling Method with Tau-Norm Classifier"
      ]
    },
    {
      "cell_type": "code",
      "metadata": {
        "id": "aL-8VG_FRFFJ"
      },
      "source": [
        "# Adjust Sampling Argument to name of Sampling Strategy used to Learn Representations\n",
        "tau_classifier = TauClassifier(64, 200, sampling = \"\")\n",
        "\n",
        "# Instance-balanced for tau - 0.2816\n",
        "# train_model(tau_classifier, learning_rate = 1e-3, sampling = \"instance\", epochs = 5)\n",
        "\n",
        "# Class-balanced for tau - 0.2852\n",
        "# train_model(tau_classifier, learning_rate = 1e-3, sampling = \"class\", epochs = 5)\n",
        "\n",
        "# Sqrt Sampling for tau - 0.2746\n",
        "# train_model(tau_classifier, learning_rate = 1e-3, sampling = \"sqrt\", epochs = 5)\n",
        "\n",
        "# Progressive-balanced for tau - 0.2722\n",
        "# train_model(tau_classifier, learning_rate = 1e-3, sampling = \"progressive\", epochs = 5)"
      ],
      "execution_count": null,
      "outputs": []
    },
    {
      "cell_type": "markdown",
      "metadata": {
        "id": "ULrA1QS0g53W"
      },
      "source": [
        "# Joint Classifer Draw Diagrams - Display Results"
      ]
    },
    {
      "cell_type": "code",
      "metadata": {
        "id": "2R_oQuAWaMsF"
      },
      "source": [
        "!pip install tabulate"
      ],
      "execution_count": 7,
      "outputs": []
    },
    {
      "cell_type": "code",
      "metadata": {
        "colab": {
          "base_uri": "https://localhost:8080/"
        },
        "id": "ksWmH_VfaXzz",
        "outputId": "31635c41-73a3-43b2-d1c4-6e1ce1834dfa"
      },
      "source": [
        "from tabulate import tabulate\n",
        "\n",
        "# Joint Training Approach Results\n",
        "# Batch size = 128, learning rate = 1e-3, epochs = 5, ResNeXT Backbone Network\n",
        "table = [['Joint Training', 'Top-1 Accuracy'], ['Instance-balanced', 0.1875], \n",
        "         ['Class-balanced', 0.1799], ['Square-Root', 0.1904], ['Progressively-balanced', 0.1844]]\n",
        "print(tabulate(table, headers='firstrow', tablefmt='fancy_grid'))"
      ],
      "execution_count": 8,
      "outputs": [
        {
          "output_type": "stream",
          "name": "stdout",
          "text": [
            "╒════════════════════════╤══════════════════╕\n",
            "│ Joint Training         │   Top-1 Accuracy │\n",
            "╞════════════════════════╪══════════════════╡\n",
            "│ Instance-balanced      │           0.1875 │\n",
            "├────────────────────────┼──────────────────┤\n",
            "│ Class-balanced         │           0.1799 │\n",
            "├────────────────────────┼──────────────────┤\n",
            "│ Square-Root            │           0.1904 │\n",
            "├────────────────────────┼──────────────────┤\n",
            "│ Progressively-balanced │           0.1844 │\n",
            "╘════════════════════════╧══════════════════╛\n"
          ]
        }
      ]
    },
    {
      "cell_type": "code",
      "metadata": {
        "colab": {
          "base_uri": "https://localhost:8080/",
          "height": 303
        },
        "id": "R6y47xROdPYl",
        "outputId": "b88687e3-3e51-483c-a76a-7ee0de01b086"
      },
      "source": [
        "import matplotlib.pyplot as plt\n",
        "\n",
        "learning_rate = [\"Instance\", \"Class\", \"Square-Root\", \"Progressive\"]\n",
        "final_test_accuracies = [0.1875, 0.1799, 0.1904, 0.1844]\n",
        "\n",
        "axes = plt.gca()\n",
        "plt.plot(learning_rate, final_test_accuracies)\n",
        "plt.title(\"Accuracy vs Sampling Method - Joint Training, TinyImageNet\")\n",
        "plt.xlabel('Sampling Method', fontsize = 18)\n",
        "plt.ylabel('Top-1 Accuracy', fontsize = 18)\n",
        "plt.show()"
      ],
      "execution_count": 31,
      "outputs": [
        {
          "output_type": "display_data",
          "data": {
            "image/png": "[encoded data removed]",
            "text/plain": [
              "<Figure size 432x288 with 1 Axes>"
            ]
          },
          "metadata": {
            "needs_background": "light"
          }
        }
      ]
    },
    {
      "cell_type": "markdown",
      "metadata": {
        "id": "7e8MspsphAQN"
      },
      "source": [
        "# Decoupling Methods Draw Diagrams - Display Results"
      ]
    },
    {
      "cell_type": "code",
      "metadata": {
        "colab": {
          "base_uri": "https://localhost:8080/"
        },
        "id": "oPCeAON7hF2E",
        "outputId": "5db347c1-38e3-48da-9c8f-75bfbb923cb7"
      },
      "source": [
        "# cRT Training Approach Results\n",
        "# Batch size = 128, learning rate = 1e-3, epochs = 5, ResNeXT Backbone Network\n",
        "table = [['cRT', 'Top-1 Accuracy'], ['Instance-balanced', 0.2918], \n",
        "         ['Class-balanced', 0.2770], ['Square-Root', 0.2861], ['Progressively-balanced', 0.2830]]\n",
        "print(tabulate(table, headers='firstrow', tablefmt='fancy_grid'))"
      ],
      "execution_count": 25,
      "outputs": [
        {
          "output_type": "stream",
          "name": "stdout",
          "text": [
            "╒════════════════════════╤══════════════════╕\n",
            "│ cRT                    │   Top-1 Accuracy │\n",
            "╞════════════════════════╪══════════════════╡\n",
            "│ Instance-balanced      │           0.2918 │\n",
            "├────────────────────────┼──────────────────┤\n",
            "│ Class-balanced         │           0.277  │\n",
            "├────────────────────────┼──────────────────┤\n",
            "│ Square-Root            │           0.2861 │\n",
            "├────────────────────────┼──────────────────┤\n",
            "│ Progressively-balanced │           0.283  │\n",
            "╘════════════════════════╧══════════════════╛\n"
          ]
        }
      ]
    },
    {
      "cell_type": "code",
      "metadata": {
        "colab": {
          "base_uri": "https://localhost:8080/"
        },
        "id": "lMnOsAiAhoKx",
        "outputId": "5d7fc25d-0bec-4a74-dfa5-047ae8963bff"
      },
      "source": [
        "# Tau-Norm Training Approach Results\n",
        "# Batch size = 128, learning rate = 1e-3, epochs = 5, ResNeXT Backbone Network\n",
        "table = [['Tau-Norm', 'Top-1 Accuracy'], ['Instance-balanced', 0.2816], \n",
        "         ['Class-balanced', 0.2852], ['Square-Root', 0.2746], ['Progressively-balanced', 0.2722]]\n",
        "print(tabulate(table, headers='firstrow', tablefmt='fancy_grid'))"
      ],
      "execution_count": 32,
      "outputs": [
        {
          "output_type": "stream",
          "name": "stdout",
          "text": [
            "╒════════════════════════╤══════════════════╕\n",
            "│ Tau-Norm               │   Top-1 Accuracy │\n",
            "╞════════════════════════╪══════════════════╡\n",
            "│ Instance-balanced      │           0.2816 │\n",
            "├────────────────────────┼──────────────────┤\n",
            "│ Class-balanced         │           0.2852 │\n",
            "├────────────────────────┼──────────────────┤\n",
            "│ Square-Root            │           0.2746 │\n",
            "├────────────────────────┼──────────────────┤\n",
            "│ Progressively-balanced │           0.2722 │\n",
            "╘════════════════════════╧══════════════════╛\n"
          ]
        }
      ]
    },
    {
      "cell_type": "code",
      "metadata": {
        "colab": {
          "base_uri": "https://localhost:8080/",
          "height": 303
        },
        "id": "nwG7G6Jzh7mC",
        "outputId": "7ab981cf-edee-4493-9b19-3744613a195e"
      },
      "source": [
        "sampling_method = [\"Instance\", \"Class\", \"Square-Root\", \"Progressive\"]\n",
        "joint_test_accuracies = [0.1875, 0.1799, 0.1904, 0.1844]\n",
        "cRT_test_accuracies = [0.2918, 0.277, 0.2861, 0.283]\n",
        "tau_norm_accuracies = [0.2816, 0.2852, 0.2746, 0.2722]\n",
        "\n",
        "axes = plt.gca()\n",
        "plt.plot(sampling_method, joint_test_accuracies, '-bo')\n",
        "plt.plot(sampling_method, cRT_test_accuracies, '-rx')\n",
        "plt.plot(sampling_method, tau_norm_accuracies, '-g*')\n",
        "plt.title(\"Accuracy vs Sampling Method - All Results, TinyImageNet\")\n",
        "plt.xlabel('Sampling Method', fontsize = 18)\n",
        "plt.ylabel('Top-1 Accuracy', fontsize = 18)\n",
        "plt.legend([\"Joint\", \"cRT\", \"Tau\"])\n",
        "plt.show()"
      ],
      "execution_count": 34,
      "outputs": [
        {
          "output_type": "display_data",
          "data": {
            "image/png": "[encoded data removed]",
            "text/plain": [
              "<Figure size 432x288 with 1 Axes>"
            ]
          },
          "metadata": {
            "needs_background": "light"
          }
        }
      ]
    }
  ]
}