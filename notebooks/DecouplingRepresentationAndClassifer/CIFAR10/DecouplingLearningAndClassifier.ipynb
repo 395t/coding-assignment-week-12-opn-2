{
  "nbformat": 4,
  "nbformat_minor": 0,
  "metadata": {
    "accelerator": "GPU",
    "colab": {
      "name": "DecouplingLearningAndClassifier.ipynb",
      "provenance": [],
      "collapsed_sections": []
    },
    "kernelspec": {
      "display_name": "Python 3",
      "name": "python3"
    },
    "language_info": {
      "name": "python"
    },
    "widgets": {
      "application/vnd.jupyter.widget-state+json": {
        "d8e38d8b071746dd847d877a7c523334": {
          "model_module": "@jupyter-widgets/controls",
          "model_name": "HBoxModel",
          "model_module_version": "1.5.0",
          "state": {
            "_view_name": "HBoxView",
            "_dom_classes": [],
            "_model_name": "HBoxModel",
            "_view_module": "@jupyter-widgets/controls",
            "_model_module_version": "1.5.0",
            "_view_count": null,
            "_view_module_version": "1.5.0",
            "box_style": "",
            "layout": "IPY_MODEL_7734891bac9e4852a65a6facf3f89659",
            "_model_module": "@jupyter-widgets/controls",
            "children": [
              "IPY_MODEL_eeddb9529e064d6f9a02338e5a4d2f0e",
              "IPY_MODEL_98f346ae3c654f308816d52bbe9553fc",
              "IPY_MODEL_9847c0286c184863bc06470472886f35"
            ]
          }
        },
        "7734891bac9e4852a65a6facf3f89659": {
          "model_module": "@jupyter-widgets/base",
          "model_name": "LayoutModel",
          "model_module_version": "1.2.0",
          "state": {
            "_view_name": "LayoutView",
            "grid_template_rows": null,
            "right": null,
            "justify_content": null,
            "_view_module": "@jupyter-widgets/base",
            "overflow": null,
            "_model_module_version": "1.2.0",
            "_view_count": null,
            "flex_flow": null,
            "width": null,
            "min_width": null,
            "border": null,
            "align_items": null,
            "bottom": null,
            "_model_module": "@jupyter-widgets/base",
            "top": null,
            "grid_column": null,
            "overflow_y": null,
            "overflow_x": null,
            "grid_auto_flow": null,
            "grid_area": null,
            "grid_template_columns": null,
            "flex": null,
            "_model_name": "LayoutModel",
            "justify_items": null,
            "grid_row": null,
            "max_height": null,
            "align_content": null,
            "visibility": null,
            "align_self": null,
            "height": null,
            "min_height": null,
            "padding": null,
            "grid_auto_rows": null,
            "grid_gap": null,
            "max_width": null,
            "order": null,
            "_view_module_version": "1.2.0",
            "grid_template_areas": null,
            "object_position": null,
            "object_fit": null,
            "grid_auto_columns": null,
            "margin": null,
            "display": null,
            "left": null
          }
        },
        "eeddb9529e064d6f9a02338e5a4d2f0e": {
          "model_module": "@jupyter-widgets/controls",
          "model_name": "HTMLModel",
          "model_module_version": "1.5.0",
          "state": {
            "_view_name": "HTMLView",
            "style": "IPY_MODEL_cbe00364acd345ecb42a60127c86811b",
            "_dom_classes": [],
            "description": "",
            "_model_name": "HTMLModel",
            "placeholder": "​",
            "_view_module": "@jupyter-widgets/controls",
            "_model_module_version": "1.5.0",
            "value": "",
            "_view_count": null,
            "_view_module_version": "1.5.0",
            "description_tooltip": null,
            "_model_module": "@jupyter-widgets/controls",
            "layout": "IPY_MODEL_43204752cf4845aeb27fa6f136415d2c"
          }
        },
        "98f346ae3c654f308816d52bbe9553fc": {
          "model_module": "@jupyter-widgets/controls",
          "model_name": "FloatProgressModel",
          "model_module_version": "1.5.0",
          "state": {
            "_view_name": "ProgressView",
            "style": "IPY_MODEL_3b3ec9c3e46d461c8dde5518efc13334",
            "_dom_classes": [],
            "description": "",
            "_model_name": "FloatProgressModel",
            "bar_style": "success",
            "max": 170498071,
            "_view_module": "@jupyter-widgets/controls",
            "_model_module_version": "1.5.0",
            "value": 170498071,
            "_view_count": null,
            "_view_module_version": "1.5.0",
            "orientation": "horizontal",
            "min": 0,
            "description_tooltip": null,
            "_model_module": "@jupyter-widgets/controls",
            "layout": "IPY_MODEL_05241bf2566e4ed490ab559ca0d7ebe5"
          }
        },
        "9847c0286c184863bc06470472886f35": {
          "model_module": "@jupyter-widgets/controls",
          "model_name": "HTMLModel",
          "model_module_version": "1.5.0",
          "state": {
            "_view_name": "HTMLView",
            "style": "IPY_MODEL_44904c586a7d4eccb7abba407a9915dd",
            "_dom_classes": [],
            "description": "",
            "_model_name": "HTMLModel",
            "placeholder": "​",
            "_view_module": "@jupyter-widgets/controls",
            "_model_module_version": "1.5.0",
            "value": " 170499072/? [00:03&lt;00:00, 59380312.38it/s]",
            "_view_count": null,
            "_view_module_version": "1.5.0",
            "description_tooltip": null,
            "_model_module": "@jupyter-widgets/controls",
            "layout": "IPY_MODEL_6e10adb00fc04a51909549018beee3c8"
          }
        },
        "cbe00364acd345ecb42a60127c86811b": {
          "model_module": "@jupyter-widgets/controls",
          "model_name": "DescriptionStyleModel",
          "model_module_version": "1.5.0",
          "state": {
            "_view_name": "StyleView",
            "_model_name": "DescriptionStyleModel",
            "description_width": "",
            "_view_module": "@jupyter-widgets/base",
            "_model_module_version": "1.5.0",
            "_view_count": null,
            "_view_module_version": "1.2.0",
            "_model_module": "@jupyter-widgets/controls"
          }
        },
        "43204752cf4845aeb27fa6f136415d2c": {
          "model_module": "@jupyter-widgets/base",
          "model_name": "LayoutModel",
          "model_module_version": "1.2.0",
          "state": {
            "_view_name": "LayoutView",
            "grid_template_rows": null,
            "right": null,
            "justify_content": null,
            "_view_module": "@jupyter-widgets/base",
            "overflow": null,
            "_model_module_version": "1.2.0",
            "_view_count": null,
            "flex_flow": null,
            "width": null,
            "min_width": null,
            "border": null,
            "align_items": null,
            "bottom": null,
            "_model_module": "@jupyter-widgets/base",
            "top": null,
            "grid_column": null,
            "overflow_y": null,
            "overflow_x": null,
            "grid_auto_flow": null,
            "grid_area": null,
            "grid_template_columns": null,
            "flex": null,
            "_model_name": "LayoutModel",
            "justify_items": null,
            "grid_row": null,
            "max_height": null,
            "align_content": null,
            "visibility": null,
            "align_self": null,
            "height": null,
            "min_height": null,
            "padding": null,
            "grid_auto_rows": null,
            "grid_gap": null,
            "max_width": null,
            "order": null,
            "_view_module_version": "1.2.0",
            "grid_template_areas": null,
            "object_position": null,
            "object_fit": null,
            "grid_auto_columns": null,
            "margin": null,
            "display": null,
            "left": null
          }
        },
        "3b3ec9c3e46d461c8dde5518efc13334": {
          "model_module": "@jupyter-widgets/controls",
          "model_name": "ProgressStyleModel",
          "model_module_version": "1.5.0",
          "state": {
            "_view_name": "StyleView",
            "_model_name": "ProgressStyleModel",
            "description_width": "",
            "_view_module": "@jupyter-widgets/base",
            "_model_module_version": "1.5.0",
            "_view_count": null,
            "_view_module_version": "1.2.0",
            "bar_color": null,
            "_model_module": "@jupyter-widgets/controls"
          }
        },
        "05241bf2566e4ed490ab559ca0d7ebe5": {
          "model_module": "@jupyter-widgets/base",
          "model_name": "LayoutModel",
          "model_module_version": "1.2.0",
          "state": {
            "_view_name": "LayoutView",
            "grid_template_rows": null,
            "right": null,
            "justify_content": null,
            "_view_module": "@jupyter-widgets/base",
            "overflow": null,
            "_model_module_version": "1.2.0",
            "_view_count": null,
            "flex_flow": null,
            "width": null,
            "min_width": null,
            "border": null,
            "align_items": null,
            "bottom": null,
            "_model_module": "@jupyter-widgets/base",
            "top": null,
            "grid_column": null,
            "overflow_y": null,
            "overflow_x": null,
            "grid_auto_flow": null,
            "grid_area": null,
            "grid_template_columns": null,
            "flex": null,
            "_model_name": "LayoutModel",
            "justify_items": null,
            "grid_row": null,
            "max_height": null,
            "align_content": null,
            "visibility": null,
            "align_self": null,
            "height": null,
            "min_height": null,
            "padding": null,
            "grid_auto_rows": null,
            "grid_gap": null,
            "max_width": null,
            "order": null,
            "_view_module_version": "1.2.0",
            "grid_template_areas": null,
            "object_position": null,
            "object_fit": null,
            "grid_auto_columns": null,
            "margin": null,
            "display": null,
            "left": null
          }
        },
        "44904c586a7d4eccb7abba407a9915dd": {
          "model_module": "@jupyter-widgets/controls",
          "model_name": "DescriptionStyleModel",
          "model_module_version": "1.5.0",
          "state": {
            "_view_name": "StyleView",
            "_model_name": "DescriptionStyleModel",
            "description_width": "",
            "_view_module": "@jupyter-widgets/base",
            "_model_module_version": "1.5.0",
            "_view_count": null,
            "_view_module_version": "1.2.0",
            "_model_module": "@jupyter-widgets/controls"
          }
        },
        "6e10adb00fc04a51909549018beee3c8": {
          "model_module": "@jupyter-widgets/base",
          "model_name": "LayoutModel",
          "model_module_version": "1.2.0",
          "state": {
            "_view_name": "LayoutView",
            "grid_template_rows": null,
            "right": null,
            "justify_content": null,
            "_view_module": "@jupyter-widgets/base",
            "overflow": null,
            "_model_module_version": "1.2.0",
            "_view_count": null,
            "flex_flow": null,
            "width": null,
            "min_width": null,
            "border": null,
            "align_items": null,
            "bottom": null,
            "_model_module": "@jupyter-widgets/base",
            "top": null,
            "grid_column": null,
            "overflow_y": null,
            "overflow_x": null,
            "grid_auto_flow": null,
            "grid_area": null,
            "grid_template_columns": null,
            "flex": null,
            "_model_name": "LayoutModel",
            "justify_items": null,
            "grid_row": null,
            "max_height": null,
            "align_content": null,
            "visibility": null,
            "align_self": null,
            "height": null,
            "min_height": null,
            "padding": null,
            "grid_auto_rows": null,
            "grid_gap": null,
            "max_width": null,
            "order": null,
            "_view_module_version": "1.2.0",
            "grid_template_areas": null,
            "object_position": null,
            "object_fit": null,
            "grid_auto_columns": null,
            "margin": null,
            "display": null,
            "left": null
          }
        }
      }
    }
  },
  "cells": [
    {
      "cell_type": "markdown",
      "metadata": {
        "id": "l-Obdu2nK_79"
      },
      "source": [
        "# Load Dataset and Construct Long-Tailed Data"
      ]
    },
    {
      "cell_type": "code",
      "metadata": {
        "colab": {
          "base_uri": "https://localhost:8080/",
          "height": 100,
          "referenced_widgets": [
            "d8e38d8b071746dd847d877a7c523334",
            "7734891bac9e4852a65a6facf3f89659",
            "eeddb9529e064d6f9a02338e5a4d2f0e",
            "98f346ae3c654f308816d52bbe9553fc",
            "9847c0286c184863bc06470472886f35",
            "cbe00364acd345ecb42a60127c86811b",
            "43204752cf4845aeb27fa6f136415d2c",
            "3b3ec9c3e46d461c8dde5518efc13334",
            "05241bf2566e4ed490ab559ca0d7ebe5",
            "44904c586a7d4eccb7abba407a9915dd",
            "6e10adb00fc04a51909549018beee3c8"
          ]
        },
        "id": "IDNMKHL7MDFW",
        "outputId": "e2e6bf11-bc7d-443f-8b57-9de7106bf6e7"
      },
      "source": [
        "import os\n",
        "import numpy as np\n",
        "import torch\n",
        "import torch.nn.functional as F\n",
        "import torch.optim as optim\n",
        "from torchvision import datasets, transforms\n",
        "from PIL import Image\n",
        "\n",
        "dataset = 'cifar10'\n",
        "data_root = 'data'\n",
        "data_root = os.path.abspath(os.path.expanduser(data_root))\n",
        "root_dir = os.path.join(data_root, dataset)\n",
        "transform_train = transforms.Compose([\n",
        "        transforms.RandomHorizontalFlip(p = 0.5),\n",
        "        transforms.ColorJitter(brightness=0.5, hue = 0.25),\n",
        "        transforms.ToTensor(),\n",
        "      ])\n",
        "\n",
        "transform_test = transforms.Compose([\n",
        "        transforms.ToTensor(),\n",
        "      ])\n",
        "\n",
        "train_dataset = datasets.CIFAR10(root=root_dir, train=True, download=True, transform=transform_train)\n",
        "test_dataset = datasets.CIFAR10(root=root_dir, train=False, download=True, transform=transform_test)\n"
      ],
      "execution_count": 1,
      "outputs": [
        {
          "output_type": "stream",
          "name": "stdout",
          "text": [
            "Downloading https://www.cs.toronto.edu/~kriz/cifar-10-python.tar.gz to /content/data/cifar10/cifar-10-python.tar.gz\n"
          ]
        },
        {
          "output_type": "display_data",
          "data": {
            "application/vnd.jupyter.widget-view+json": {
              "model_id": "d8e38d8b071746dd847d877a7c523334",
              "version_minor": 0,
              "version_major": 2
            },
            "text/plain": [
              "  0%|          | 0/170498071 [00:00<?, ?it/s]"
            ]
          },
          "metadata": {}
        },
        {
          "output_type": "stream",
          "name": "stdout",
          "text": [
            "Extracting /content/data/cifar10/cifar-10-python.tar.gz to /content/data/cifar10\n",
            "Files already downloaded and verified\n"
          ]
        }
      ]
    },
    {
      "cell_type": "code",
      "metadata": {
        "id": "Q2FMmOF8ftbY"
      },
      "source": [
        "batch_size = 128\n",
        "\n",
        "def Imbalance_CIFAR(train_dataset):\n",
        "  # Goal Long-tail distribution\n",
        "  distribution = {0 : 5000, 1 : 3000, 2 : 1500, 3 : 1000, 4 : 800, 5 : 600, 6 : 400, 7 : 200, 8 : 100, 9 : 50}\n",
        "  train_set = []\n",
        "\n",
        "  # First obtain the imbalanced data and aggregate in a list\n",
        "  for (image, label) in train_dataset:\n",
        "    if distribution[label] <= 0:\n",
        "      continue;\n",
        "\n",
        "    train_set.append((image, label))\n",
        "    distribution[label] -= 1\n",
        "  \n",
        "  return train_set\n",
        "\n",
        "imbalanced_cifar = Imbalance_CIFAR(train_dataset)"
      ],
      "execution_count": 17,
      "outputs": []
    },
    {
      "cell_type": "code",
      "metadata": {
        "colab": {
          "base_uri": "https://localhost:8080/",
          "height": 352
        },
        "id": "LBVUjcCUsKL2",
        "outputId": "7755caa8-1c07-4a9e-90bb-38b277f3f9bf"
      },
      "source": [
        "import matplotlib.pyplot as plt\n",
        "\n",
        "# Sanity Check to see if Imbalancing was actually done\n",
        "distribution = [0] * 10\n",
        "for (x, y) in imbalanced_cifar:\n",
        "  distribution[y] += 1\n",
        "\n",
        "fig = plt.figure()\n",
        "ax = fig.add_axes([0,0,1,1])\n",
        "langs = [i for i in range(10)]\n",
        "students = distribution\n",
        "ax.bar(langs,students)\n",
        "ax.set_title('CIFAR-10 Distribution After Imbalancing')\n",
        "plt.show()"
      ],
      "execution_count": 18,
      "outputs": [
        {
          "output_type": "display_data",
          "data": {
            "image/png": "[encoded data removed]",
            "text/plain": [
              "<Figure size 432x288 with 1 Axes>"
            ]
          },
          "metadata": {
            "needs_background": "light"
          }
        }
      ]
    },
    {
      "cell_type": "code",
      "metadata": {
        "id": "9u1Yq_O4uJTR"
      },
      "source": [
        "from random import shuffle\n",
        "import numpy as np\n",
        "\n",
        "data_by_class = {}\n",
        "for (x, y) in imbalanced_cifar:\n",
        "  if y not in data_by_class:\n",
        "    data_by_class[y] = []\n",
        "\n",
        "  data_by_class[y].append(x)\n",
        "\n",
        "def GetCIFARLoaders(train_dataset, test_dataset, batch_size):\n",
        "  test_loader = torch.utils.data.DataLoader(test_dataset, batch_size=batch_size,\n",
        "                                              shuffle=False, drop_last=False)\n",
        "  shuffle(train_dataset)\n",
        "  current_images = torch.zeros(batch_size, 3, 32, 32)\n",
        "  current_labels = torch.zeros(batch_size)\n",
        "  curr_num = 0\n",
        "  train_loader = []\n",
        "  print(len(train_dataset))\n",
        "  for (x, y) in train_dataset:\n",
        "    if curr_num > batch_size - 1:\n",
        "      train_loader.append((current_images, current_labels))\n",
        "      current_images = torch.zeros(batch_size, 3, 32, 32)\n",
        "      current_labels = torch.zeros(batch_size)\n",
        "      curr_num = 0\n",
        "\n",
        "    current_images[curr_num] = x\n",
        "    current_labels[curr_num] = y\n",
        "    curr_num += 1\n",
        "  return train_loader, test_loader\n",
        "\n",
        "def GetTestLoader(test_dataset, batch_size):\n",
        "  test_loader = torch.utils.data.DataLoader(test_dataset, batch_size=batch_size,\n",
        "                                              shuffle=False, drop_last=False)\n",
        "  return test_loader\n",
        "\n",
        "def GetCIFAR10ClassBalancedBatch():\n",
        "  class_ = list(np.random.randint(0, 10, batch_size))\n",
        "  batch_tensor = torch.zeros(batch_size, 3, 32, 32)\n",
        "  label_tensor = torch.zeros(batch_size)\n",
        "  for i in range(batch_size):\n",
        "    instance = np.random.randint(0, len(data_by_class[class_[i]]), 1)\n",
        "    batch_tensor[i] = data_by_class[class_[i]][instance[0]]\n",
        "    label_tensor[i] = class_[i]\n",
        "  \n",
        "  return (batch_tensor, label_tensor)\n",
        "    \n",
        "\n",
        "def GetCIFAR10SquareRootBatch():\n",
        "  distribution = [5000, 3000, 1500, 1000, 800, 600, 400, 200, 100, 50]\n",
        "  sqrt_dist = [distribution[i]**0.5 for i in range(len(distribution))]\n",
        "  denominator = sum(sqrt_dist)\n",
        "  probabilities = [sqrt_dist[i] / denominator for i in range(len(sqrt_dist))]\n",
        "  class_ = list(np.random.choice(10, batch_size, p = probabilities))\n",
        "  batch_tensor = torch.zeros(batch_size, 3, 32, 32)\n",
        "  label_tensor = torch.zeros(batch_size)\n",
        "  for i in range(batch_size):\n",
        "    instance = np.random.randint(0, len(data_by_class[class_[i]]), 1)\n",
        "    batch_tensor[i] = data_by_class[class_[i]][instance[0]]\n",
        "    label_tensor[i] = class_[i]\n",
        "  \n",
        "  return (batch_tensor, label_tensor)\n",
        "\n",
        "def GetCIFAR10ProgressiveBalancedBatch(t, T):\n",
        "  p_CB = 1/10\n",
        "  distribution = [5000, 3000, 1500, 1000, 800, 600, 400, 200, 100, 50]\n",
        "  denominator = sum(distribution)\n",
        "  probabilities = [distribution[i] / denominator for i in range(len(distribution))]\n",
        "  progressive_probs = [((1 - t/T) * probabilities[i] + t/T * p_CB) for i in range(len(probabilities))]\n",
        "  class_ = list(np.random.choice(10, batch_size, p = progressive_probs))\n",
        "  batch_tensor = torch.zeros(batch_size, 3, 32, 32)\n",
        "  label_tensor = torch.zeros(batch_size)\n",
        "  for i in range(batch_size):\n",
        "    instance = np.random.randint(0, len(data_by_class[class_[i]]), 1)\n",
        "    batch_tensor[i] = data_by_class[class_[i]][instance[0]]\n",
        "    label_tensor[i] = class_[i]\n",
        "  \n",
        "  return (batch_tensor, label_tensor)\n",
        "\n",
        "# Get Data Loaders for instance-balanced sampling (default)\n",
        "# train_loader, test_loader = GetCIFARLoaders(imbalanced_cifar, test_dataset, 128)\n",
        "\n",
        "# Get Data Loader for class-balanced sampling method and square root sampling\n",
        "test_loader = GetTestLoader(test_dataset, 128)"
      ],
      "execution_count": 88,
      "outputs": []
    },
    {
      "cell_type": "markdown",
      "metadata": {
        "id": "KMFF0E4CgeHa"
      },
      "source": [
        "# Training Code"
      ]
    },
    {
      "cell_type": "code",
      "metadata": {
        "id": "qr1D-gjCHLVr"
      },
      "source": [
        "## Training Code\n",
        "\n",
        "def train_model(model_in, learning_rate = 1e-2, sampling = \"instance\", epochs = 25):\n",
        "  # Load ResNet50 from Torchvision and modify output layer for TinyImageSet\n",
        "  device = torch.device('cuda' if torch.cuda.is_available() else 'cpu')\n",
        "  print(device)\n",
        "  model = model_in\n",
        "  optimizer = torch.optim.Adam(model.parameters(), lr = learning_rate)\n",
        "  model = model.to(device)\n",
        "  loss_f = torch.nn.CrossEntropyLoss()\n",
        "\n",
        "  for epoch in range (epochs):\n",
        "    print(epoch)\n",
        "    model.train()\n",
        "\n",
        "    # Iterate through training set, collect loss values and update model\n",
        "    # Standard approach to Training\n",
        "\n",
        "    if (sampling == \"instance\"):\n",
        "      for im, truth_labels in train_loader:\n",
        "        truth_labels = truth_labels.type(torch.LongTensor)\n",
        "        im = im.to(device)\n",
        "        truth_labels = truth_labels.to(device)\n",
        "        predicted_labels = model(im)\n",
        "        predicted_labels = predicted_labels.to(device)\n",
        "        loss = loss_f(predicted_labels, truth_labels)\n",
        "        loss.backward()\n",
        "        optimizer.step()\n",
        "        optimizer.zero_grad()\n",
        "    \n",
        "    else:\n",
        "      num_batches = len(imbalanced_cifar) // batch_size\n",
        "      for i in range(num_batches):\n",
        "        if (sampling == \"class\"):\n",
        "          im, truth_labels = GetCIFAR10ClassBalancedBatch()\n",
        "        elif (sampling == \"sqrt\"):\n",
        "          im, truth_labels = GetCIFAR10SquareRootBatch()\n",
        "        elif (sampling == \"progressive\"):\n",
        "          im, truth_labels = GetCIFAR10ProgressiveBalancedBatch(t = max(epoch * 2, epochs), T = epochs)\n",
        "        truth_labels = truth_labels.type(torch.LongTensor)\n",
        "        im = im.to(device)\n",
        "        truth_labels = truth_labels.to(device)\n",
        "        predicted_labels = model(im)\n",
        "        predicted_labels = predicted_labels.to(device)\n",
        "        loss = loss_f(predicted_labels, truth_labels)\n",
        "        loss.backward()\n",
        "        optimizer.step()\n",
        "        optimizer.zero_grad()\n",
        " \n",
        "    if epoch % 5 == 0:\n",
        "      model.eval()\n",
        "      accuracies = []\n",
        "      for validation_im, validation_labels in test_loader:\n",
        "        validation_im = validation_im.to(device)\n",
        "        validation_labels = validation_labels.to(device)\n",
        "\n",
        "        predicted_labels = model(validation_im).argmax(1)\n",
        "        accuracy = (predicted_labels == validation_labels).float().mean().item()\n",
        "        accuracies.append(accuracy)\n",
        "      \n",
        "      validation_set_accuracy = torch.FloatTensor(accuracies).mean().item()\n",
        "      print(\"Epoch: \", epoch, \"Test Accuracy : \", validation_set_accuracy)\n",
        "      save_model(model, 'det' + epoch + '.th')\n",
        "\n",
        "  for validation_im, validation_labels in test_loader:\n",
        "      validation_im = validation_im.to(device)\n",
        "      validation_labels = validation_labels.to(device)\n",
        "\n",
        "      predicted_labels = model(validation_im).argmax(1)\n",
        "      accuracy = (predicted_labels == validation_labels).float().mean().item()\n",
        "      accuracies.append(accuracy)\n",
        "    \n",
        "  validation_set_accuracy = torch.FloatTensor(accuracies).mean().item()\n",
        "  print(\"Final Test Accuracy : \", validation_set_accuracy)\n",
        "\n",
        "def save_model(model, file_name):\n",
        "    from torch import save\n",
        "    from os import path\n",
        "    return save(model.state_dict(), path.join(path.dirname(path.abspath(__file__)), 'det.th'))\n",
        "\n",
        "\n",
        "def load_model():\n",
        "    from torch import load\n",
        "    from os import path\n",
        "    r = Detector()\n",
        "    r.load_state_dict(load(path.join(path.dirname(path.abspath(__file__)), 'det.th'), map_location='cpu'))\n",
        "    return r"
      ],
      "execution_count": 92,
      "outputs": []
    },
    {
      "cell_type": "markdown",
      "metadata": {
        "id": "OoUngKOBgzx-"
      },
      "source": [
        "# Joint Classifier Model Architecture"
      ]
    },
    {
      "cell_type": "code",
      "metadata": {
        "id": "ysmz2yHgIzSB"
      },
      "source": [
        "import torch\n",
        "import torchvision\n",
        "import torchvision.transforms as transforms\n",
        "\n",
        "class JointClassifier(torch.nn.Module):\n",
        "    def __init__(self, im_dim, num_class):\n",
        "        super().__init__()\n",
        "        # self.backbone_nn = torchvision.models.resnet50(pretrained=False, progress=True)\n",
        "        self.backbone_nn = torchvision.models.resnext50_32x4d(pretrained=False, progress=True)\n",
        "        # self.backbone_nn = torch.hub.load('pytorch/vision:v0.10.0', 'resnext50_32x4d', pretrained=True)\n",
        "        self.backbone_nn.fc = torch.nn.Linear(in_features=2048, out_features = 3 * im_dim * im_dim)\n",
        "        self.weights = torch.nn.Parameter(torch.ones(3 * im_dim * im_dim, num_class))\n",
        "        self.biases = torch.nn.Parameter(torch.ones(num_class))\n",
        "\n",
        "    def forward(self, x):\n",
        "        feature_representation = self.backbone_nn(x)\n",
        "        return feature_representation.matmul(self.weights) + self.biases\n",
        "      "
      ],
      "execution_count": 93,
      "outputs": []
    },
    {
      "cell_type": "code",
      "metadata": {
        "id": "Qnxsb5Yvwzz1"
      },
      "source": [
        "# Load ResNeXt Architecture, Combine with Classifier and Train for 90 Epochs with Instance Sampling\n",
        "# 20-30 Epochs For Joint Training\n",
        "\n",
        "joint_classifier = JointClassifier(32, 10)\n",
        "\n",
        "# To test Instance-balanced sampling\n",
        "train_model(joint_classifier, learning_rate = 1e-2, sampling = \"instance\", epochs = 100)\n",
        "\n",
        "# To test Class-balanced sampling\n",
        "# train_model(joint_classifier, learning_rate = 1e-3, sampling = \"class\", epochs = 100)\n",
        "\n",
        "# To Test Square Root Sampling\n",
        "# train_model(joint_classifier, learning_rate = 1e-3, sampling = \"sqrt\", epochs = 100)\n",
        "\n",
        "# To Test Progressively-Balanced Sampling\n",
        "# train_model(joint_classifier, learning_rate = 1e-3, sampling = \"progressive\", epochs = 100)"
      ],
      "execution_count": null,
      "outputs": []
    },
    {
      "cell_type": "markdown",
      "metadata": {
        "id": "ULrA1QS0g53W"
      },
      "source": [
        "# Joint Classifer Draw Diagrams - Display Results"
      ]
    },
    {
      "cell_type": "code",
      "metadata": {
        "colab": {
          "base_uri": "https://localhost:8080/"
        },
        "id": "2R_oQuAWaMsF",
        "outputId": "19fa70b5-99ed-422a-9755-31939503f9e8"
      },
      "source": [
        "!pip install tabulate"
      ],
      "execution_count": 96,
      "outputs": [
        {
          "output_type": "stream",
          "name": "stdout",
          "text": [
            "Requirement already satisfied: tabulate in /usr/local/lib/python3.7/dist-packages (0.8.9)\n"
          ]
        }
      ]
    },
    {
      "cell_type": "code",
      "metadata": {
        "colab": {
          "base_uri": "https://localhost:8080/"
        },
        "id": "ksWmH_VfaXzz",
        "outputId": "3903f90b-459c-46a7-b8ac-b3e329b2c1f0"
      },
      "source": [
        "from tabulate import tabulate\n",
        "\n",
        "# Joint Training Approach Results\n",
        "# Batch size = 128, learning rate = 1e-3, epochs = 70, ResNeXT Backbone Network\n",
        "table = [['Sampling Method', 'Top-1 Accuracy'], ['Instance-balanced', 0.4049], ['Class-balanced', 0.4050], ['Square-Root', 0.4343], ['Progressively-balanced', 0.4209]]\n",
        "print(tabulate(table, headers='firstrow', tablefmt='fancy_grid'))"
      ],
      "execution_count": 97,
      "outputs": [
        {
          "output_type": "stream",
          "name": "stdout",
          "text": [
            "╒════════════════════════╤══════════════════╕\n",
            "│ Sampling Method        │   Top-1 Accuracy │\n",
            "╞════════════════════════╪══════════════════╡\n",
            "│ Instance-balanced      │           0.4049 │\n",
            "├────────────────────────┼──────────────────┤\n",
            "│ Class-balanced         │           0.405  │\n",
            "├────────────────────────┼──────────────────┤\n",
            "│ Square-Root            │           0.4343 │\n",
            "├────────────────────────┼──────────────────┤\n",
            "│ Progressively-balanced │           0.4209 │\n",
            "╘════════════════════════╧══════════════════╛\n"
          ]
        }
      ]
    },
    {
      "cell_type": "code",
      "metadata": {
        "colab": {
          "base_uri": "https://localhost:8080/",
          "height": 303
        },
        "id": "R6y47xROdPYl",
        "outputId": "ba8faec9-b72c-4d7e-f8f8-f93cb773aa55"
      },
      "source": [
        "import matplotlib.pyplot as plt\n",
        "\n",
        "learning_rate = [\"Instance\", \"Class\", \"Square-Root\", \"Progressive\"]\n",
        "final_test_accuracies = [0.4049, 0.405, 0.4343, 0.4209]\n",
        "\n",
        "axes = plt.gca()\n",
        "plt.plot(learning_rate, final_test_accuracies)\n",
        "plt.title(\"Accuracy vs Sampling Method - Joint Training, CIFAR-10\")\n",
        "plt.xlabel('Sampling Method', fontsize = 18)\n",
        "plt.ylabel('Top-1 Accuracy', fontsize = 18)\n",
        "plt.show()"
      ],
      "execution_count": 112,
      "outputs": [
        {
          "output_type": "display_data",
          "data": {
            "image/png": "[encoded data removed]",
            "text/plain": [
              "<Figure size 432x288 with 1 Axes>"
            ]
          },
          "metadata": {
            "needs_background": "light"
          }
        }
      ]
    }
  ]
}