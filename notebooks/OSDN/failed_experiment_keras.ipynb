{
  "nbformat": 4,
  "nbformat_minor": 0,
  "metadata": {
    "colab": {
      "name": "failed_experiment1.ipynb",
      "provenance": [],
      "collapsed_sections": []
    },
    "kernelspec": {
      "name": "python3",
      "display_name": "Python 3"
    },
    "language_info": {
      "name": "python"
    }
  },
  "cells": [
    {
      "cell_type": "code",
      "metadata": {
        "id": "FjTf0xafdTMc",
        "colab": {
          "base_uri": "https://localhost:8080/",
          "height": 850
        },
        "outputId": "67263fc5-c561-4730-8add-33e0742bcc72"
      },
      "source": [
        "%tensorflow_version 1.x\n",
        "!pip install  keras==2.2.4\n",
        "!pip install 'h5py==2.10.0' --force-reinstall"
      ],
      "execution_count": null,
      "outputs": [
        {
          "output_type": "stream",
          "name": "stdout",
          "text": [
            "TensorFlow 1.x selected.\n",
            "Collecting keras==2.2.4\n",
            "  Using cached Keras-2.2.4-py2.py3-none-any.whl (312 kB)\n",
            "Requirement already satisfied: scipy>=0.14 in /usr/local/lib/python3.7/dist-packages (from keras==2.2.4) (1.4.1)\n",
            "Requirement already satisfied: keras-preprocessing>=1.0.5 in /usr/local/lib/python3.7/dist-packages (from keras==2.2.4) (1.1.2)\n",
            "Requirement already satisfied: h5py in /usr/local/lib/python3.7/dist-packages (from keras==2.2.4) (2.10.0)\n",
            "Requirement already satisfied: keras-applications>=1.0.6 in /tensorflow-1.15.2/python3.7 (from keras==2.2.4) (1.0.8)\n",
            "Requirement already satisfied: numpy>=1.9.1 in /usr/local/lib/python3.7/dist-packages (from keras==2.2.4) (1.21.4)\n",
            "Requirement already satisfied: pyyaml in /usr/local/lib/python3.7/dist-packages (from keras==2.2.4) (3.13)\n",
            "Requirement already satisfied: six>=1.9.0 in /usr/local/lib/python3.7/dist-packages (from keras==2.2.4) (1.16.0)\n",
            "Installing collected packages: keras\n",
            "  Attempting uninstall: keras\n",
            "    Found existing installation: keras 2.6.0\n",
            "    Uninstalling keras-2.6.0:\n",
            "      Successfully uninstalled keras-2.6.0\n",
            "Successfully installed keras-2.2.4\n",
            "Collecting h5py==2.10.0\n",
            "  Using cached h5py-2.10.0-cp37-cp37m-manylinux1_x86_64.whl (2.9 MB)\n",
            "Collecting six\n",
            "  Using cached six-1.16.0-py2.py3-none-any.whl (11 kB)\n",
            "Collecting numpy>=1.7\n",
            "  Using cached numpy-1.21.4-cp37-cp37m-manylinux_2_12_x86_64.manylinux2010_x86_64.whl (15.7 MB)\n",
            "Installing collected packages: six, numpy, h5py\n",
            "  Attempting uninstall: six\n",
            "    Found existing installation: six 1.16.0\n",
            "    Uninstalling six-1.16.0:\n",
            "      Successfully uninstalled six-1.16.0\n",
            "  Attempting uninstall: numpy\n",
            "    Found existing installation: numpy 1.21.4\n",
            "    Uninstalling numpy-1.21.4:\n",
            "      Successfully uninstalled numpy-1.21.4\n",
            "  Attempting uninstall: h5py\n",
            "    Found existing installation: h5py 2.10.0\n",
            "    Uninstalling h5py-2.10.0:\n",
            "      Successfully uninstalled h5py-2.10.0\n",
            "\u001b[31mERROR: pip's dependency resolver does not currently take into account all the packages that are installed. This behaviour is the source of the following dependency conflicts.\n",
            "lucid 0.3.10 requires umap-learn, which is not installed.\n",
            "tensorflow 1.15.2 requires gast==0.2.2, but you have gast 0.4.0 which is incompatible.\n",
            "lucid 0.3.10 requires numpy<=1.19, but you have numpy 1.21.4 which is incompatible.\n",
            "kapre 0.3.5 requires tensorflow>=2.0.0, but you have tensorflow 1.15.2 which is incompatible.\n",
            "google-colab 1.0.0 requires six~=1.15.0, but you have six 1.16.0 which is incompatible.\n",
            "datascience 0.10.6 requires folium==0.2.1, but you have folium 0.8.3 which is incompatible.\n",
            "albumentations 0.1.12 requires imgaug<0.2.7,>=0.2.5, but you have imgaug 0.2.9 which is incompatible.\u001b[0m\n",
            "Successfully installed h5py-2.10.0 numpy-1.21.4 six-1.16.0\n"
          ]
        },
        {
          "output_type": "display_data",
          "data": {
            "application/vnd.colab-display-data+json": {
              "pip_warning": {
                "packages": [
                  "numpy",
                  "six"
                ]
              }
            }
          },
          "metadata": {}
        }
      ]
    },
    {
      "cell_type": "code",
      "metadata": {
        "colab": {
          "base_uri": "https://localhost:8080/"
        },
        "id": "GYEbzh3aOuPf",
        "outputId": "4e57eead-8aaa-4da0-c2ba-c58c4139c268"
      },
      "source": [
        "%tensorflow_version 1.x"
      ],
      "execution_count": null,
      "outputs": [
        {
          "output_type": "stream",
          "name": "stdout",
          "text": [
            "TensorFlow 1.x selected.\n"
          ]
        }
      ]
    },
    {
      "cell_type": "code",
      "metadata": {
        "id": "S4pZbUYdYYFg",
        "colab": {
          "base_uri": "https://localhost:8080/"
        },
        "outputId": "0f45e6cd-fbb9-41dd-eabe-2c642a303c2f"
      },
      "source": [
        "\n",
        "import keras\n",
        "import tensorflow as tf\n",
        "\n",
        "print(keras.__version__)\n",
        "print(tf.__version__)\n",
        "import sys\n",
        "print(sys.version)"
      ],
      "execution_count": null,
      "outputs": [
        {
          "output_type": "stream",
          "name": "stderr",
          "text": [
            "Using TensorFlow backend.\n"
          ]
        },
        {
          "output_type": "stream",
          "name": "stdout",
          "text": [
            "2.2.4\n",
            "1.15.2\n",
            "3.7.12 (default, Sep 10 2021, 00:21:48) \n",
            "[GCC 7.5.0]\n"
          ]
        }
      ]
    },
    {
      "cell_type": "code",
      "metadata": {
        "id": "fa5qfxlh0R72",
        "colab": {
          "base_uri": "https://localhost:8080/"
        },
        "outputId": "ead03781-2321-41af-94ec-ba6de7231947"
      },
      "source": [
        "!git clone https://github.com/aadeshnpn/OSDN.git\n",
        "\n",
        "!mv OSDN/utils/libmr.cpython-36m-x86_64-linux-gnu.so OSDN/utils/libmr.so\n",
        "!mv OSDN/* .\n",
        "!rm -r OSDN"
      ],
      "execution_count": null,
      "outputs": [
        {
          "output_type": "stream",
          "name": "stdout",
          "text": [
            "Cloning into 'OSDN'...\n",
            "remote: Enumerating objects: 87, done.\u001b[K\n",
            "remote: Counting objects: 100% (54/54), done.\u001b[K\n",
            "remote: Compressing objects: 100% (36/36), done.\u001b[K\n",
            "remote: Total 87 (delta 23), reused 43 (delta 16), pack-reused 33\u001b[K\n",
            "Unpacking objects: 100% (87/87), done.\n"
          ]
        }
      ]
    },
    {
      "cell_type": "code",
      "metadata": {
        "id": "HCtBz5bsliwQ",
        "colab": {
          "base_uri": "https://localhost:8080/"
        },
        "outputId": "22cb9506-6154-4078-84c1-3118dae08e27"
      },
      "source": [
        "from keras.models import load_model\n",
        "import numpy as np\n",
        "from utils.openmax import get_train_test, create_model\n",
        "from utils.openmax import image_show, compute_activation, compute_openmax"
      ],
      "execution_count": null,
      "outputs": [
        {
          "output_type": "stream",
          "name": "stderr",
          "text": [
            "/usr/lib/python3.7/importlib/_bootstrap.py:219: RuntimeWarning: compiletime version 3.6 of module 'libmr' does not match runtime version 3.7\n",
            "  return f(*args, **kwds)\n"
          ]
        }
      ]
    },
    {
      "cell_type": "code",
      "metadata": {
        "id": "tpmBMhd-o2vm"
      },
      "source": [
        ""
      ],
      "execution_count": null,
      "outputs": []
    },
    {
      "cell_type": "code",
      "metadata": {
        "colab": {
          "base_uri": "https://localhost:8080/"
        },
        "id": "vUX8C-V6Eggw",
        "outputId": "b42ef8be-c28a-4242-fabf-0ee6a9a02070"
      },
      "source": [
        "np.random.seed(12345)\n",
        "\n",
        "# Step 1: Train a CNN model for the dataset you choice\n",
        "\n",
        "# We skip this step as we already trained MNIST dataset\n",
        "\n",
        "# Step 2: Load the trained model\n",
        "#model = load_model('data/MNIST_CNN.h5')\n",
        "model = load_model('data/MNIST_CNN_tanh.h5')\n",
        "\n",
        "# Step 3: Load the training data you trained the DNN model\n",
        "data = get_train_test()\n",
        "x_train, x_test, y_train, y_test = data\n",
        "\n",
        "# Step 4: Create a mean activation vector (MAV) and do weibull fit model\n",
        "# Send the trained model as argument and the test data you want to predict\n",
        "# using the OSDN\n",
        "create_model(model, data)\n",
        "\n",
        "# Step 5: Pass the sample to compute activation and openmax\n",
        "# Test on the openmax activation function to images from\n",
        "# the same distribution\n",
        "N = 5   # Testing N number of test images"
      ],
      "execution_count": null,
      "outputs": [
        {
          "output_type": "stream",
          "name": "stdout",
          "text": [
            "0 (6943, 28, 28, 1)\n",
            "1 (6811, 28, 28, 1)\n",
            "2 (7286, 28, 28, 1)\n",
            "3 (6862, 28, 28, 1)\n",
            "4 (6305, 28, 28, 1)\n",
            "5 (6816, 28, 28, 1)\n",
            "6 (7133, 28, 28, 1)\n",
            "7 (6980, 28, 28, 1)\n",
            "8 (7871, 28, 28, 1)\n",
            "9 (6899, 28, 28, 1)\n"
          ]
        }
      ]
    },
    {
      "cell_type": "code",
      "metadata": {
        "colab": {
          "base_uri": "https://localhost:8080/",
          "height": 1000
        },
        "id": "qPROmzgJjZ9v",
        "outputId": "a8f9555d-0c4a-4334-9f13-8c0957379353"
      },
      "source": [
        "for i in range(N):\n",
        "  random_char = np.random.randint(0, len(x_test))\n",
        "\n",
        "  test_x1 = x_test[random_char]\n",
        "  test_y1 = y_test[random_char]\n",
        "\n",
        "  # Compute fc8 activation for the given image\n",
        "  activation = compute_activation(model, test_x1)\n",
        "\n",
        "  # Compute openmax activation\n",
        "  softmax, openmax = compute_openmax(model, activation)\n",
        "\n",
        "  print('Actual Label: ', np.argmax(test_y1))\n",
        "  print('Prediction Softmax: ', softmax)\n",
        "  if openmax == 10:\n",
        "      openmax = 'Unknown'\n",
        "  print('Prediction openmax: ', openmax)\n",
        "  labels = (np.argmax(test_y1), softmax, openmax)\n",
        "\n",
        "  # Show the image\n",
        "  image_show(test_x1, labels)"
      ],
      "execution_count": null,
      "outputs": [
        {
          "output_type": "stream",
          "name": "stdout",
          "text": [
            "Actual Label:  6\n",
            "Prediction Softmax:  2\n",
            "Prediction openmax:  7\n"
          ]
        },
        {
          "output_type": "display_data",
          "data": {
            "image/png": "[encoded data removed]",
            "text/plain": [
              "<Figure size 432x288 with 1 Axes>"
            ]
          },
          "metadata": {
            "needs_background": "light"
          }
        },
        {
          "output_type": "stream",
          "name": "stdout",
          "text": [
            "Actual Label:  7\n",
            "Prediction Softmax:  7\n",
            "Prediction openmax:  2\n"
          ]
        },
        {
          "output_type": "display_data",
          "data": {
            "image/png": "[encoded data removed]",
            "text/plain": [
              "<Figure size 432x288 with 1 Axes>"
            ]
          },
          "metadata": {
            "needs_background": "light"
          }
        },
        {
          "output_type": "stream",
          "name": "stdout",
          "text": [
            "Actual Label:  2\n",
            "Prediction Softmax:  3\n",
            "Prediction openmax:  Unknown\n"
          ]
        },
        {
          "output_type": "display_data",
          "data": {
            "image/png": "[encoded data removed]",
            "text/plain": [
              "<Figure size 432x288 with 1 Axes>"
            ]
          },
          "metadata": {
            "needs_background": "light"
          }
        },
        {
          "output_type": "stream",
          "name": "stdout",
          "text": [
            "Actual Label:  0\n",
            "Prediction Softmax:  3\n",
            "Prediction openmax:  4\n"
          ]
        },
        {
          "output_type": "display_data",
          "data": {
            "image/png": "[encoded data removed]",
            "text/plain": [
              "<Figure size 432x288 with 1 Axes>"
            ]
          },
          "metadata": {
            "needs_background": "light"
          }
        },
        {
          "output_type": "stream",
          "name": "stdout",
          "text": [
            "Actual Label:  9\n",
            "Prediction Softmax:  5\n",
            "Prediction openmax:  4\n"
          ]
        },
        {
          "output_type": "display_data",
          "data": {
            "image/png": "[encoded data removed]",
            "text/plain": [
              "<Figure size 432x288 with 1 Axes>"
            ]
          },
          "metadata": {
            "needs_background": "light"
          }
        }
      ]
    },
    {
      "cell_type": "code",
      "metadata": {
        "id": "tSGwlc65jg5Z"
      },
      "source": [
        "# Step 6: Test the trained openmax to images from different distribution\n",
        "# Opemax should return unknow to these types of images\n",
        "# We are testing Nepali numerals on the model trained on MNIST\n",
        "from utils.nepali_characters import split\n",
        "import keras\n",
        "\n",
        "train_x, train_y, test_x, text_y, valid_x, valid_y = split(0.9, 0.05, 0.05)\n",
        "train_y = keras.utils.to_categorical(train_y, 10)\n",
        "data = x_train, x_test, y_train, y_test\n",
        "model = load_model('data/MNIST_CNN_tanh.h5')\n",
        "create_model(model, data)\n",
        "\n",
        "for i in range(N):\n",
        "  random_char = np.random.randint(0, len(train_y))\n",
        "\n",
        "  test_x1 = train_x[random_char]\n",
        "  test_x1 = np.reshape(test_x1, (32, 32)).T\n",
        "  test_y1 = train_y[random_char]\n",
        "\n",
        "  # Compute fc8 activation for the given image\n",
        "  activation = compute_activation(model, test_x1)\n",
        "\n",
        "  # Compute openmax activation\n",
        "  print(activation)\n",
        "  softmax, openmax = compute_openmax(model, activation)\n",
        "\n",
        "  print('Actual Label: ', np.argmax(test_y1))\n",
        "  print('Prediction Softmax: ', softmax)\n",
        "  if openmax == 10:\n",
        "      openmax = 'Unknown'\n",
        "  print('Prediction Openmax: ', openmax)\n",
        "  labels = (np.argmax(test_y1), softmax, openmax)\n",
        "  # Draw image\n",
        "  image_show(test_x1, labels)"
      ],
      "execution_count": null,
      "outputs": []
    },
    {
      "cell_type": "code",
      "metadata": {
        "id": "LCTTGeDIxLRt"
      },
      "source": [
        "np.random.seed(12345)\n",
        "\n",
        "# Step 1: Train a CNN model for the dataset you choice\n",
        "\n",
        "# We skip this step as we already trained MNIST dataset\n",
        "\n",
        "# Step 2: Load the trained model\n",
        "model = load_model('data/MNIST_CNN.h5')\n",
        "\n",
        "# Step 3: Load the training data you trained the DNN model\n",
        "data = get_train_test()\n",
        "x_train, x_test, y_train, y_test = data\n",
        "\n",
        "# Step 4: Create a mean activation vector (MAV) and do weibull fit model\n",
        "# Send the trained model as argument and the test data you want to predict\n",
        "# using the OSDN\n",
        "create_model(model, data)\n",
        "\n",
        "# Step 5: Pass the sample to compute activation and openmax\n",
        "# Test on the openmax activation function to images from\n",
        "# the same distribution\n",
        "N = 5   # Testing N number of test images\n",
        "for i in range(N):\n",
        "    random_char = np.random.randint(0, len(x_test))\n",
        "\n",
        "    test_x1 = x_test[random_char]\n",
        "    test_y1 = y_test[random_char]\n",
        "\n",
        "    # Compute fc8 activation for the given image\n",
        "    activation = compute_activation(model, test_x1)\n",
        "\n",
        "    # Compute openmax activation\n",
        "    softmax, openmax = compute_openmax(model, activation)\n",
        "\n",
        "    print('Actual Label: ', np.argmax(test_y1))\n",
        "    print('Prediction Softmax: ', softmax)\n",
        "    if openmax == 10:\n",
        "        openmax = 'Unknown'\n",
        "    print('Prediction openmax: ', openmax)\n",
        "    labels = (np.argmax(test_y1), softmax, openmax)\n",
        "\n",
        "    # Show the image\n",
        "    image_show(test_x1, labels)\n",
        "\n",
        "# Step 6: Test the trained openmax to images from different distribution\n",
        "# Opemax should return unknow to these types of images\n",
        "# We are testing Nepali numerals on the model trained on MNIST\n",
        "from utils.nepali_characters import split\n",
        "import keras\n",
        "\n",
        "train_x, train_y, test_x, text_y, valid_x, valid_y = split(0.9, 0.05, 0.05)\n",
        "train_y = keras.utils.to_categorical(train_y, 10)\n",
        "data = x_train, x_test, y_train, y_test\n",
        "\n",
        "for i in range(N):\n",
        "    random_char = np.random.randint(0, len(train_y))\n",
        "\n",
        "    test_x1 = train_x[random_char]\n",
        "    test_x1 = np.reshape(test_x1, (32, 32)).T\n",
        "    test_y1 = train_y[random_char]\n",
        "\n",
        "    # Compute fc8 activation for the given image\n",
        "    activation = compute_activation(model, test_x1)\n",
        "\n",
        "    # Compute openmax activation\n",
        "    softmax, openmax = compute_openmax(model, activation)\n",
        "\n",
        "    print('Actual Label: ', np.argmax(test_y1))\n",
        "    print('Prediction Softmax: ', softmax)\n",
        "    if openmax == 10:\n",
        "        openmax = 'Unknown'\n",
        "    print('Prediction Openmax: ', openmax)\n",
        "    labels = (np.argmax(test_y1), softmax, openmax)\n",
        "    # Draw image\n",
        "    image_show(test_x1, labels)"
      ],
      "execution_count": null,
      "outputs": []
    },
    {
      "cell_type": "code",
      "metadata": {
        "id": "u9M1iGmdyokx"
      },
      "source": [
        "model = load_model('data/MNIST_CNN.h5')\n",
        "model.summary()"
      ],
      "execution_count": null,
      "outputs": []
    },
    {
      "cell_type": "code",
      "metadata": {
        "id": "6yQlJHQ1y0vE"
      },
      "source": [
        "model = load_model('data/MNIST_CNN_tanh.h5')\n",
        "model.summary()"
      ],
      "execution_count": null,
      "outputs": []
    },
    {
      "cell_type": "code",
      "metadata": {
        "id": "yPe4ifu6Mj1r"
      },
      "source": [
        "# Some examples on CIFAR-10 \n",
        "from keras.datasets import cifar10\n",
        "\n",
        "# The data, shuffled and split between train and test sets:\n",
        "(x_train, y_train), (x_test, y_test) = cifar10.load_data()\n",
        "#print('x_train shape:', x_train.shape)\n",
        "#print(x_train.shape[0], 'train samples')\n",
        "#print(x_test.shape[0], 'test samples')\n",
        "\n",
        "\n",
        "# Convert class vectors to binary class matrices.\n",
        "y_train = keras.utils.to_categorical(y_train, 10)\n",
        "y_test = keras.utils.to_categorical(y_test, 10)\n",
        "\n",
        "# x_train = x_train.astype('float32')\n",
        "# x_test = x_test.astype('float32')\n",
        "# # x_valid = x_valid.astype('float32')\n",
        "# x_train /= 255.\n",
        "# x_test /= 255.\n",
        "\n",
        "import cv2\n",
        "from skimage.color import rgb2gray\n",
        "\n",
        "x1 = np.zeros((50000,28,28,3))\n",
        "x2 = np.zeros((10000,28,28,3))\n",
        "\n",
        "x3 = np.zeros((50000,28,28, 1))\n",
        "x4 = np.zeros((10000,28,28, 1))\n",
        "\n",
        "for i in range (50000):\n",
        "  x1[i] = cv2.resize(x_train[i], (28,28))\n",
        "\n",
        "for i in range (10000):\n",
        "  x2[i] = cv2.resize(x_test[i], (28,28))\n",
        "\n",
        "for i in range (50000):\n",
        "  x3[i] = np.expand_dims(rgb2gray(x1[i]), -1)\n",
        "\n",
        "for i in range (10000):\n",
        "  x4[i] = np.expand_dims(rgb2gray(x2[i]), -1)\n",
        "\n",
        "x_train = x3\n",
        "x_test = x4"
      ],
      "execution_count": null,
      "outputs": []
    },
    {
      "cell_type": "code",
      "metadata": {
        "colab": {
          "base_uri": "https://localhost:8080/",
          "height": 1000
        },
        "id": "xvpoe2gD9y9Z",
        "outputId": "a67eea51-77dd-4854-e877-a8694d740243"
      },
      "source": [
        "\n",
        "\n",
        "data = x_train, x_test, y_train, y_test\n",
        "#create_model(model, data)\n",
        "\n",
        "for i in range(5):\n",
        "    random_char = np.random.randint(0,len(x_test))\n",
        "\n",
        "    test_x1 = x_test[random_char]\n",
        "    test_y1 = y_test[random_char]\n",
        "    \n",
        "    #from skimage.color import rgb2gray\n",
        "    \n",
        "    image_show(test_x1,test_y1)\n",
        "\n",
        "    #test_x1 = rgb2gray(test_x1)\n",
        "    #print (test_x1.shape)\n",
        "    # Compute fc8 activation for the given image\n",
        "\n",
        "    activation = compute_activation(model,test_x1)\n",
        "    #print (activation)\n",
        "\n",
        "    # Compute openmax activation\n",
        "\n",
        "    softmax,openmax = compute_openmax(model,activation)\n",
        "    #openmax_unknown_class(model)\n",
        "    print ('Actual Label: ', np.argmax(test_y1))\n",
        "    print ('Prediction Softmax: ', softmax)\n",
        "    if openmax == 10:\n",
        "        openmax = 'Unknown'\n",
        "    print ('Prediction Openmax: ',openmax)"
      ],
      "execution_count": null,
      "outputs": [
        {
          "output_type": "display_data",
          "data": {
            "image/png": "[encoded data removed]",
            "text/plain": [
              "<Figure size 432x288 with 1 Axes>"
            ]
          },
          "metadata": {
            "needs_background": "light"
          }
        },
        {
          "output_type": "stream",
          "name": "stdout",
          "text": [
            "Actual Label:  3\n",
            "Prediction Softmax:  0\n",
            "Prediction Openmax:  5\n"
          ]
        },
        {
          "output_type": "display_data",
          "data": {
            "image/png": "[encoded data removed]",
            "text/plain": [
              "<Figure size 432x288 with 1 Axes>"
            ]
          },
          "metadata": {
            "needs_background": "light"
          }
        },
        {
          "output_type": "stream",
          "name": "stdout",
          "text": [
            "Actual Label:  0\n",
            "Prediction Softmax:  8\n",
            "Prediction Openmax:  Unknown\n"
          ]
        },
        {
          "output_type": "display_data",
          "data": {
            "image/png": "[encoded data removed]",
            "text/plain": [
              "<Figure size 432x288 with 1 Axes>"
            ]
          },
          "metadata": {
            "needs_background": "light"
          }
        },
        {
          "output_type": "stream",
          "name": "stdout",
          "text": [
            "Actual Label:  2\n",
            "Prediction Softmax:  8\n",
            "Prediction Openmax:  Unknown\n"
          ]
        },
        {
          "output_type": "display_data",
          "data": {
            "image/png": "[encoded data removed]",
            "text/plain": [
              "<Figure size 432x288 with 1 Axes>"
            ]
          },
          "metadata": {
            "needs_background": "light"
          }
        },
        {
          "output_type": "stream",
          "name": "stdout",
          "text": [
            "Actual Label:  3\n",
            "Prediction Softmax:  8\n",
            "Prediction Openmax:  Unknown\n"
          ]
        },
        {
          "output_type": "display_data",
          "data": {
            "image/png": "[encoded data removed]",
            "text/plain": [
              "<Figure size 432x288 with 1 Axes>"
            ]
          },
          "metadata": {
            "needs_background": "light"
          }
        },
        {
          "output_type": "stream",
          "name": "stdout",
          "text": [
            "Actual Label:  7\n",
            "Prediction Softmax:  2\n",
            "Prediction Openmax:  7\n"
          ]
        }
      ]
    },
    {
      "cell_type": "code",
      "metadata": {
        "id": "W_pZUxvmLNmy"
      },
      "source": [
        "asd = tf.image.resize(x_train, (28,28))"
      ],
      "execution_count": null,
      "outputs": []
    },
    {
      "cell_type": "code",
      "metadata": {
        "id": "3X8nKcA4LytY"
      },
      "source": [
        "import cv2\n",
        "\n",
        "x1 = np.zeros((50000,28,28,3))\n",
        "x2 = np.zeros((10000,28,28,3))\n",
        "\n",
        "for i in range (50000)\n",
        "  x1[i] = cv2.resize(x_train[i], (28,28))\n",
        "\n",
        "for i in range (10000)\n",
        "  x2[i] = cv2.resize(x_test[i], (28,28))\n",
        "\n",
        "x_train = x1\n",
        "x_test = x2"
      ],
      "execution_count": null,
      "outputs": []
    }
  ]
}