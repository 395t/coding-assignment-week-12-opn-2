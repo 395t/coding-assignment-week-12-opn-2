{
  "nbformat": 4,
  "nbformat_minor": 0,
  "metadata": {
    "colab": {
      "name": "experiment1.ipynb",
      "provenance": [],
      "collapsed_sections": []
    },
    "kernelspec": {
      "name": "python3",
      "display_name": "Python 3"
    },
    "language_info": {
      "name": "python"
    },
    "accelerator": "GPU"
  },
  "cells": [
    {
      "cell_type": "code",
      "metadata": {
        "colab": {
          "base_uri": "https://localhost:8080/",
          "height": 1000
        },
        "id": "ZFS7WW80HWhK",
        "outputId": "59f5de84-bf8b-4b31-941f-79366d516188"
      },
      "source": [
        "!pip install -U setuptools pip\n",
        "!pip install chainer\n",
        "!pip install cupy-cuda111\n",
        "!pip install wandb\n",
        "!pip install Cython\n",
        "!pip install libmr"
      ],
      "execution_count": null,
      "outputs": [
        {
          "output_type": "stream",
          "name": "stdout",
          "text": [
            "Requirement already satisfied: setuptools in /usr/local/lib/python3.7/dist-packages (57.4.0)\n",
            "Collecting setuptools\n",
            "  Downloading setuptools-58.5.3-py3-none-any.whl (946 kB)\n",
            "\u001b[K     |████████████████████████████████| 946 kB 5.2 MB/s \n",
            "\u001b[?25hRequirement already satisfied: pip in /usr/local/lib/python3.7/dist-packages (21.1.3)\n",
            "Collecting pip\n",
            "  Downloading pip-21.3.1-py3-none-any.whl (1.7 MB)\n",
            "\u001b[K     |████████████████████████████████| 1.7 MB 37.7 MB/s \n",
            "\u001b[?25hInstalling collected packages: setuptools, pip\n",
            "  Attempting uninstall: setuptools\n",
            "    Found existing installation: setuptools 57.4.0\n",
            "    Uninstalling setuptools-57.4.0:\n",
            "      Successfully uninstalled setuptools-57.4.0\n",
            "  Attempting uninstall: pip\n",
            "    Found existing installation: pip 21.1.3\n",
            "    Uninstalling pip-21.1.3:\n",
            "      Successfully uninstalled pip-21.1.3\n",
            "\u001b[31mERROR: pip's dependency resolver does not currently take into account all the packages that are installed. This behaviour is the source of the following dependency conflicts.\n",
            "datascience 0.10.6 requires folium==0.2.1, but you have folium 0.8.3 which is incompatible.\u001b[0m\n",
            "Successfully installed pip-21.3.1 setuptools-58.5.3\n"
          ]
        },
        {
          "output_type": "display_data",
          "data": {
            "application/vnd.colab-display-data+json": {
              "pip_warning": {
                "packages": [
                  "pkg_resources"
                ]
              }
            }
          },
          "metadata": {}
        },
        {
          "output_type": "stream",
          "name": "stdout",
          "text": [
            "Collecting chainer\n",
            "  Downloading chainer-7.8.0.tar.gz (1.0 MB)\n",
            "     |████████████████████████████████| 1.0 MB 5.0 MB/s            \n",
            "\u001b[?25h  Preparing metadata (setup.py) ... \u001b[?25l\u001b[?25hdone\n",
            "Requirement already satisfied: setuptools in /usr/local/lib/python3.7/dist-packages (from chainer) (58.5.3)\n",
            "Requirement already satisfied: typing_extensions in /usr/local/lib/python3.7/dist-packages (from chainer) (3.7.4.3)\n",
            "Requirement already satisfied: filelock in /usr/local/lib/python3.7/dist-packages (from chainer) (3.3.0)\n",
            "Requirement already satisfied: numpy>=1.9.0 in /usr/local/lib/python3.7/dist-packages (from chainer) (1.19.5)\n",
            "Requirement already satisfied: protobuf>=3.0.0 in /usr/local/lib/python3.7/dist-packages (from chainer) (3.17.3)\n",
            "Requirement already satisfied: six>=1.9.0 in /usr/local/lib/python3.7/dist-packages (from chainer) (1.15.0)\n",
            "Building wheels for collected packages: chainer\n",
            "  Building wheel for chainer (setup.py) ... \u001b[?25l\u001b[?25hdone\n",
            "  Created wheel for chainer: filename=chainer-7.8.0-py3-none-any.whl size=967734 sha256=4646ab69c65179e78b539627a6328b9e21b3a67e3d5b427abb67fc89c196b7c6\n",
            "  Stored in directory: /root/.cache/pip/wheels/8d/45/4c/c961846626d4db2511e4acbd5056eefb2aeedcec8208a3ca42\n",
            "Successfully built chainer\n",
            "Installing collected packages: chainer\n",
            "Successfully installed chainer-7.8.0\n",
            "\u001b[33mWARNING: Running pip as the 'root' user can result in broken permissions and conflicting behaviour with the system package manager. It is recommended to use a virtual environment instead: https://pip.pypa.io/warnings/venv\u001b[0m\n",
            "Collecting cupy-cuda111\n",
            "  Downloading cupy_cuda111-9.5.0-cp37-cp37m-manylinux1_x86_64.whl (94.7 MB)\n",
            "     |████████████████████████████████| 94.7 MB 29 kB/s              \n",
            "\u001b[?25hRequirement already satisfied: fastrlock>=0.5 in /usr/local/lib/python3.7/dist-packages (from cupy-cuda111) (0.6)\n",
            "Requirement already satisfied: numpy<1.24,>=1.17 in /usr/local/lib/python3.7/dist-packages (from cupy-cuda111) (1.19.5)\n",
            "Installing collected packages: cupy-cuda111\n",
            "Successfully installed cupy-cuda111-9.5.0\n",
            "\u001b[33mWARNING: Running pip as the 'root' user can result in broken permissions and conflicting behaviour with the system package manager. It is recommended to use a virtual environment instead: https://pip.pypa.io/warnings/venv\u001b[0m\n",
            "Collecting wandb\n",
            "  Downloading wandb-0.12.6-py2.py3-none-any.whl (1.7 MB)\n",
            "     |████████████████████████████████| 1.7 MB 5.1 MB/s            \n",
            "\u001b[?25hCollecting subprocess32>=3.5.3\n",
            "  Downloading subprocess32-3.5.4.tar.gz (97 kB)\n",
            "     |████████████████████████████████| 97 kB 7.9 MB/s             \n",
            "\u001b[?25h  Preparing metadata (setup.py) ... \u001b[?25l\u001b[?25hdone\n",
            "Requirement already satisfied: six>=1.13.0 in /usr/local/lib/python3.7/dist-packages (from wandb) (1.15.0)\n",
            "Collecting docker-pycreds>=0.4.0\n",
            "  Downloading docker_pycreds-0.4.0-py2.py3-none-any.whl (9.0 kB)\n",
            "Requirement already satisfied: python-dateutil>=2.6.1 in /usr/local/lib/python3.7/dist-packages (from wandb) (2.8.2)\n",
            "Requirement already satisfied: PyYAML in /usr/local/lib/python3.7/dist-packages (from wandb) (3.13)\n",
            "Requirement already satisfied: promise<3,>=2.0 in /usr/local/lib/python3.7/dist-packages (from wandb) (2.3)\n",
            "Requirement already satisfied: requests<3,>=2.0.0 in /usr/local/lib/python3.7/dist-packages (from wandb) (2.23.0)\n",
            "Requirement already satisfied: Click!=8.0.0,>=7.0 in /usr/local/lib/python3.7/dist-packages (from wandb) (7.1.2)\n",
            "Collecting GitPython>=1.0.0\n",
            "  Downloading GitPython-3.1.24-py3-none-any.whl (180 kB)\n",
            "     |████████████████████████████████| 180 kB 63.2 MB/s            \n",
            "\u001b[?25hCollecting pathtools\n",
            "  Downloading pathtools-0.1.2.tar.gz (11 kB)\n",
            "  Preparing metadata (setup.py) ... \u001b[?25l\u001b[?25hdone\n",
            "Collecting configparser>=3.8.1\n",
            "  Downloading configparser-5.1.0-py3-none-any.whl (19 kB)\n",
            "Requirement already satisfied: psutil>=5.0.0 in /usr/local/lib/python3.7/dist-packages (from wandb) (5.4.8)\n",
            "Collecting sentry-sdk>=1.0.0\n",
            "  Downloading sentry_sdk-1.4.3-py2.py3-none-any.whl (139 kB)\n",
            "     |████████████████████████████████| 139 kB 43.1 MB/s            \n",
            "\u001b[?25hRequirement already satisfied: protobuf>=3.12.0 in /usr/local/lib/python3.7/dist-packages (from wandb) (3.17.3)\n",
            "Collecting shortuuid>=0.5.0\n",
            "  Downloading shortuuid-1.0.5-py3-none-any.whl (8.5 kB)\n",
            "Collecting yaspin>=1.0.0\n",
            "  Downloading yaspin-2.1.0-py3-none-any.whl (18 kB)\n",
            "Collecting gitdb<5,>=4.0.1\n",
            "  Downloading gitdb-4.0.9-py3-none-any.whl (63 kB)\n",
            "     |████████████████████████████████| 63 kB 1.9 MB/s             \n",
            "\u001b[?25hRequirement already satisfied: typing-extensions>=3.7.4.3 in /usr/local/lib/python3.7/dist-packages (from GitPython>=1.0.0->wandb) (3.7.4.3)\n",
            "Requirement already satisfied: urllib3!=1.25.0,!=1.25.1,<1.26,>=1.21.1 in /usr/local/lib/python3.7/dist-packages (from requests<3,>=2.0.0->wandb) (1.24.3)\n",
            "Requirement already satisfied: chardet<4,>=3.0.2 in /usr/local/lib/python3.7/dist-packages (from requests<3,>=2.0.0->wandb) (3.0.4)\n",
            "Requirement already satisfied: idna<3,>=2.5 in /usr/local/lib/python3.7/dist-packages (from requests<3,>=2.0.0->wandb) (2.10)\n",
            "Requirement already satisfied: certifi>=2017.4.17 in /usr/local/lib/python3.7/dist-packages (from requests<3,>=2.0.0->wandb) (2021.5.30)\n",
            "Requirement already satisfied: termcolor<2.0.0,>=1.1.0 in /usr/local/lib/python3.7/dist-packages (from yaspin>=1.0.0->wandb) (1.1.0)\n",
            "Collecting smmap<6,>=3.0.1\n",
            "  Downloading smmap-5.0.0-py3-none-any.whl (24 kB)\n",
            "Building wheels for collected packages: subprocess32, pathtools\n",
            "  Building wheel for subprocess32 (setup.py) ... \u001b[?25l\u001b[?25hdone\n",
            "  Created wheel for subprocess32: filename=subprocess32-3.5.4-py3-none-any.whl size=6502 sha256=996409a660c2d277e4c87d3f1cbd7e87e92e61223fa7fbb1dcfc88c8a8168d4a\n",
            "  Stored in directory: /root/.cache/pip/wheels/50/ca/fa/8fca8d246e64f19488d07567547ddec8eb084e8c0d7a59226a\n",
            "  Building wheel for pathtools (setup.py) ... \u001b[?25l\u001b[?25hdone\n",
            "  Created wheel for pathtools: filename=pathtools-0.1.2-py3-none-any.whl size=8807 sha256=3f7865251ed39c42464911bce211bf7c9a9bd41b20a786a221e2550e54c3776c\n",
            "  Stored in directory: /root/.cache/pip/wheels/3e/31/09/fa59cef12cdcfecc627b3d24273699f390e71828921b2cbba2\n",
            "Successfully built subprocess32 pathtools\n",
            "Installing collected packages: smmap, gitdb, yaspin, subprocess32, shortuuid, sentry-sdk, pathtools, GitPython, docker-pycreds, configparser, wandb\n",
            "Successfully installed GitPython-3.1.24 configparser-5.1.0 docker-pycreds-0.4.0 gitdb-4.0.9 pathtools-0.1.2 sentry-sdk-1.4.3 shortuuid-1.0.5 smmap-5.0.0 subprocess32-3.5.4 wandb-0.12.6 yaspin-2.1.0\n",
            "\u001b[33mWARNING: Running pip as the 'root' user can result in broken permissions and conflicting behaviour with the system package manager. It is recommended to use a virtual environment instead: https://pip.pypa.io/warnings/venv\u001b[0m\n",
            "Requirement already satisfied: Cython in /usr/local/lib/python3.7/dist-packages (0.29.24)\n",
            "\u001b[33mWARNING: Running pip as the 'root' user can result in broken permissions and conflicting behaviour with the system package manager. It is recommended to use a virtual environment instead: https://pip.pypa.io/warnings/venv\u001b[0m\n",
            "Collecting libmr\n",
            "  Downloading libmr-0.1.9.zip (39 kB)\n",
            "  Preparing metadata (setup.py) ... \u001b[?25l\u001b[?25hdone\n",
            "Requirement already satisfied: cython in /usr/local/lib/python3.7/dist-packages (from libmr) (0.29.24)\n",
            "Requirement already satisfied: numpy in /usr/local/lib/python3.7/dist-packages (from libmr) (1.19.5)\n",
            "Building wheels for collected packages: libmr\n",
            "  Building wheel for libmr (setup.py) ... \u001b[?25l\u001b[?25hdone\n",
            "  Created wheel for libmr: filename=libmr-0.1.9-cp37-cp37m-linux_x86_64.whl size=386631 sha256=5c3344899788cb0eec2c2830a33b5d30830cbf808301acc6159dccafec60c3a7\n",
            "  Stored in directory: /root/.cache/pip/wheels/b0/54/28/fadd1fd7df1f0db683e5d8e05fb06bfa65e329245ad933b534\n",
            "Successfully built libmr\n",
            "Installing collected packages: libmr\n",
            "Successfully installed libmr-0.1.9\n",
            "\u001b[33mWARNING: Running pip as the 'root' user can result in broken permissions and conflicting behaviour with the system package manager. It is recommended to use a virtual environment instead: https://pip.pypa.io/warnings/venv\u001b[0m\n"
          ]
        }
      ]
    },
    {
      "cell_type": "code",
      "metadata": {
        "colab": {
          "base_uri": "https://localhost:8080/",
          "height": 459
        },
        "id": "Y4rhiqVULefn",
        "outputId": "965010a0-9194-4bb6-e5ac-df5099c3c1aa"
      },
      "source": [
        "import wandb\n",
        "wandb.init()"
      ],
      "execution_count": null,
      "outputs": [
        {
          "output_type": "error",
          "ename": "ModuleNotFoundError",
          "evalue": "ignored",
          "traceback": [
            "\u001b[0;31m---------------------------------------------------------------------------\u001b[0m",
            "\u001b[0;31mModuleNotFoundError\u001b[0m                       Traceback (most recent call last)",
            "\u001b[0;32m<ipython-input-2-a75537b0845c>\u001b[0m in \u001b[0;36m<module>\u001b[0;34m()\u001b[0m\n\u001b[0;32m----> 1\u001b[0;31m \u001b[0;32mimport\u001b[0m \u001b[0mwandb\u001b[0m\u001b[0;34m\u001b[0m\u001b[0;34m\u001b[0m\u001b[0m\n\u001b[0m\u001b[1;32m      2\u001b[0m \u001b[0mwandb\u001b[0m\u001b[0;34m.\u001b[0m\u001b[0minit\u001b[0m\u001b[0;34m(\u001b[0m\u001b[0;34m)\u001b[0m\u001b[0;34m\u001b[0m\u001b[0;34m\u001b[0m\u001b[0m\n",
            "\u001b[0;32m/usr/local/lib/python3.7/dist-packages/wandb/__init__.py\u001b[0m in \u001b[0;36m<module>\u001b[0;34m()\u001b[0m\n\u001b[1;32m     32\u001b[0m \u001b[0;32mfrom\u001b[0m \u001b[0mwandb\u001b[0m\u001b[0;34m.\u001b[0m\u001b[0merrors\u001b[0m\u001b[0;34m.\u001b[0m\u001b[0mterm\u001b[0m \u001b[0;32mimport\u001b[0m \u001b[0mtermsetup\u001b[0m\u001b[0;34m,\u001b[0m \u001b[0mtermlog\u001b[0m\u001b[0;34m,\u001b[0m \u001b[0mtermerror\u001b[0m\u001b[0;34m,\u001b[0m \u001b[0mtermwarn\u001b[0m\u001b[0;34m\u001b[0m\u001b[0;34m\u001b[0m\u001b[0m\n\u001b[1;32m     33\u001b[0m \u001b[0;34m\u001b[0m\u001b[0m\n\u001b[0;32m---> 34\u001b[0;31m \u001b[0;32mfrom\u001b[0m \u001b[0mwandb\u001b[0m \u001b[0;32mimport\u001b[0m \u001b[0msdk\u001b[0m \u001b[0;32mas\u001b[0m \u001b[0mwandb_sdk\u001b[0m\u001b[0;34m\u001b[0m\u001b[0;34m\u001b[0m\u001b[0m\n\u001b[0m\u001b[1;32m     35\u001b[0m \u001b[0;34m\u001b[0m\u001b[0m\n\u001b[1;32m     36\u001b[0m \u001b[0;32mimport\u001b[0m \u001b[0mwandb\u001b[0m\u001b[0;34m\u001b[0m\u001b[0;34m\u001b[0m\u001b[0m\n",
            "\u001b[0;32m/usr/local/lib/python3.7/dist-packages/wandb/sdk/__init__.py\u001b[0m in \u001b[0;36m<module>\u001b[0;34m()\u001b[0m\n\u001b[1;32m      5\u001b[0m \"\"\"\n\u001b[1;32m      6\u001b[0m \u001b[0;34m\u001b[0m\u001b[0m\n\u001b[0;32m----> 7\u001b[0;31m \u001b[0;32mfrom\u001b[0m \u001b[0;34m.\u001b[0m \u001b[0;32mimport\u001b[0m \u001b[0mwandb_helper\u001b[0m \u001b[0;32mas\u001b[0m \u001b[0mhelper\u001b[0m  \u001b[0;31m# noqa: F401\u001b[0m\u001b[0;34m\u001b[0m\u001b[0;34m\u001b[0m\u001b[0m\n\u001b[0m\u001b[1;32m      8\u001b[0m \u001b[0;32mfrom\u001b[0m \u001b[0;34m.\u001b[0m\u001b[0mwandb_alerts\u001b[0m \u001b[0;32mimport\u001b[0m \u001b[0mAlertLevel\u001b[0m  \u001b[0;31m# noqa: F401\u001b[0m\u001b[0;34m\u001b[0m\u001b[0;34m\u001b[0m\u001b[0m\n\u001b[1;32m      9\u001b[0m \u001b[0;32mfrom\u001b[0m \u001b[0;34m.\u001b[0m\u001b[0mwandb_artifacts\u001b[0m \u001b[0;32mimport\u001b[0m \u001b[0mArtifact\u001b[0m  \u001b[0;31m# noqa: F401\u001b[0m\u001b[0;34m\u001b[0m\u001b[0;34m\u001b[0m\u001b[0m\n",
            "\u001b[0;32m/usr/local/lib/python3.7/dist-packages/wandb/sdk/wandb_helper.py\u001b[0m in \u001b[0;36m<module>\u001b[0;34m()\u001b[0m\n\u001b[1;32m      6\u001b[0m \u001b[0;32mfrom\u001b[0m \u001b[0mwandb\u001b[0m\u001b[0;34m.\u001b[0m\u001b[0merrors\u001b[0m \u001b[0;32mimport\u001b[0m \u001b[0mUsageError\u001b[0m\u001b[0;34m\u001b[0m\u001b[0;34m\u001b[0m\u001b[0m\n\u001b[1;32m      7\u001b[0m \u001b[0;34m\u001b[0m\u001b[0m\n\u001b[0;32m----> 8\u001b[0;31m \u001b[0;32mfrom\u001b[0m \u001b[0;34m.\u001b[0m\u001b[0mlib\u001b[0m \u001b[0;32mimport\u001b[0m \u001b[0mconfig_util\u001b[0m\u001b[0;34m\u001b[0m\u001b[0;34m\u001b[0m\u001b[0m\n\u001b[0m\u001b[1;32m      9\u001b[0m \u001b[0;34m\u001b[0m\u001b[0m\n\u001b[1;32m     10\u001b[0m \u001b[0;34m\u001b[0m\u001b[0m\n",
            "\u001b[0;32m/usr/local/lib/python3.7/dist-packages/wandb/sdk/lib/config_util.py\u001b[0m in \u001b[0;36m<module>\u001b[0;34m()\u001b[0m\n\u001b[1;32m      6\u001b[0m \u001b[0;32mimport\u001b[0m \u001b[0msix\u001b[0m\u001b[0;34m\u001b[0m\u001b[0;34m\u001b[0m\u001b[0m\n\u001b[1;32m      7\u001b[0m \u001b[0;32mfrom\u001b[0m \u001b[0mwandb\u001b[0m\u001b[0;34m.\u001b[0m\u001b[0merrors\u001b[0m \u001b[0;32mimport\u001b[0m \u001b[0mError\u001b[0m\u001b[0;34m\u001b[0m\u001b[0;34m\u001b[0m\u001b[0m\n\u001b[0;32m----> 8\u001b[0;31m \u001b[0;32mfrom\u001b[0m \u001b[0mwandb\u001b[0m\u001b[0;34m.\u001b[0m\u001b[0mutil\u001b[0m \u001b[0;32mimport\u001b[0m \u001b[0mload_yaml\u001b[0m\u001b[0;34m\u001b[0m\u001b[0;34m\u001b[0m\u001b[0m\n\u001b[0m\u001b[1;32m      9\u001b[0m \u001b[0;32mimport\u001b[0m \u001b[0myaml\u001b[0m\u001b[0;34m\u001b[0m\u001b[0;34m\u001b[0m\u001b[0m\n\u001b[1;32m     10\u001b[0m \u001b[0;34m\u001b[0m\u001b[0m\n",
            "\u001b[0;32m/usr/local/lib/python3.7/dist-packages/wandb/util.py\u001b[0m in \u001b[0;36m<module>\u001b[0;34m()\u001b[0m\n\u001b[1;32m     25\u001b[0m \u001b[0;32mimport\u001b[0m \u001b[0mtime\u001b[0m\u001b[0;34m\u001b[0m\u001b[0;34m\u001b[0m\u001b[0m\n\u001b[1;32m     26\u001b[0m \u001b[0;32mimport\u001b[0m \u001b[0mrandom\u001b[0m\u001b[0;34m\u001b[0m\u001b[0;34m\u001b[0m\u001b[0m\n\u001b[0;32m---> 27\u001b[0;31m \u001b[0;32mimport\u001b[0m \u001b[0mshortuuid\u001b[0m\u001b[0;34m\u001b[0m\u001b[0;34m\u001b[0m\u001b[0m\n\u001b[0m\u001b[1;32m     28\u001b[0m \u001b[0;32mimport\u001b[0m \u001b[0mimportlib\u001b[0m\u001b[0;34m\u001b[0m\u001b[0;34m\u001b[0m\u001b[0m\n\u001b[1;32m     29\u001b[0m \u001b[0;32mimport\u001b[0m \u001b[0mtarfile\u001b[0m\u001b[0;34m\u001b[0m\u001b[0;34m\u001b[0m\u001b[0m\n",
            "\u001b[0;32m/usr/local/lib/python3.7/dist-packages/shortuuid/__init__.py\u001b[0m in \u001b[0;36m<module>\u001b[0;34m()\u001b[0m\n\u001b[1;32m      1\u001b[0m \u001b[0;31m# flake8: noqa\u001b[0m\u001b[0;34m\u001b[0m\u001b[0;34m\u001b[0m\u001b[0;34m\u001b[0m\u001b[0m\n\u001b[0;32m----> 2\u001b[0;31m \u001b[0;32mimport\u001b[0m \u001b[0mimportlib\u001b[0m\u001b[0;34m.\u001b[0m\u001b[0mmetadata\u001b[0m\u001b[0;34m\u001b[0m\u001b[0;34m\u001b[0m\u001b[0m\n\u001b[0m\u001b[1;32m      3\u001b[0m \u001b[0;34m\u001b[0m\u001b[0m\n\u001b[1;32m      4\u001b[0m \u001b[0;32mfrom\u001b[0m \u001b[0mshortuuid\u001b[0m\u001b[0;34m.\u001b[0m\u001b[0mmain\u001b[0m \u001b[0;32mimport\u001b[0m \u001b[0mdecode\u001b[0m\u001b[0;34m\u001b[0m\u001b[0;34m\u001b[0m\u001b[0m\n\u001b[1;32m      5\u001b[0m \u001b[0;32mfrom\u001b[0m \u001b[0mshortuuid\u001b[0m\u001b[0;34m.\u001b[0m\u001b[0mmain\u001b[0m \u001b[0;32mimport\u001b[0m \u001b[0mencode\u001b[0m\u001b[0;34m\u001b[0m\u001b[0;34m\u001b[0m\u001b[0m\n",
            "\u001b[0;31mModuleNotFoundError\u001b[0m: No module named 'importlib.metadata'",
            "",
            "\u001b[0;31m---------------------------------------------------------------------------\u001b[0;32m\nNOTE: If your import is failing due to a missing package, you can\nmanually install dependencies using either !pip or !apt.\n\nTo view examples of installing some common dependencies, click the\n\"Open Examples\" button below.\n\u001b[0;31m---------------------------------------------------------------------------\u001b[0m\n"
          ],
          "errorDetails": {
            "actions": [
              {
                "action": "open_url",
                "actionText": "Open Examples",
                "url": "/notebooks/snippets/importing_libraries.ipynb"
              }
            ]
          }
        }
      ]
    },
    {
      "cell_type": "code",
      "metadata": {
        "id": "89bnlkSkzg7n"
      },
      "source": [
        "import numpy"
      ],
      "execution_count": null,
      "outputs": []
    },
    {
      "cell_type": "code",
      "metadata": {
        "colab": {
          "base_uri": "https://localhost:8080/"
        },
        "id": "dnyYe5_kHem8",
        "outputId": "c9d8d273-32f6-421f-ce17-425c0fe6942d"
      },
      "source": [
        "!git clone https://github.com/takumayagi/openmax-cifar10.git\n",
        "!mv openmax-cifar10/* .\n",
        "!rm -r openmax-cifar10\n",
        "!sh scripts/download_dataset.sh\n",
        "!mkdir outputs\n",
        "!mkdir outputs/convnet\n",
        "!mkdir outputs/convnet_val"
      ],
      "execution_count": null,
      "outputs": [
        {
          "output_type": "stream",
          "name": "stdout",
          "text": [
            "Cloning into 'openmax-cifar10'...\n",
            "remote: Enumerating objects: 46, done.\u001b[K\n",
            "remote: Total 46 (delta 0), reused 0 (delta 0), pack-reused 46\u001b[K\n",
            "Unpacking objects: 100% (46/46), done.\n",
            "--2021-11-08 18:54:31--  https://www.cs.toronto.edu/~kriz/cifar-10-python.tar.gz\n",
            "Resolving www.cs.toronto.edu (www.cs.toronto.edu)... 128.100.3.30\n",
            "Connecting to www.cs.toronto.edu (www.cs.toronto.edu)|128.100.3.30|:443... connected.\n",
            "HTTP request sent, awaiting response... 200 OK\n",
            "Length: 170498071 (163M) [application/x-gzip]\n",
            "Saving to: ‘cifar-10-python.tar.gz’\n",
            "\n",
            "cifar-10-python.tar 100%[===================>] 162.60M  74.3MB/s    in 2.2s    \n",
            "\n",
            "2021-11-08 18:54:33 (74.3 MB/s) - ‘cifar-10-python.tar.gz’ saved [170498071/170498071]\n",
            "\n",
            "cifar-10-batches-py/\n",
            "cifar-10-batches-py/data_batch_4\n",
            "cifar-10-batches-py/readme.html\n",
            "cifar-10-batches-py/test_batch\n",
            "cifar-10-batches-py/data_batch_3\n",
            "cifar-10-batches-py/batches.meta\n",
            "cifar-10-batches-py/data_batch_2\n",
            "cifar-10-batches-py/data_batch_5\n",
            "cifar-10-batches-py/data_batch_1\n",
            "--2021-11-08 18:54:35--  https://www.cs.toronto.edu/~kriz/cifar-100-python.tar.gz\n",
            "Resolving www.cs.toronto.edu (www.cs.toronto.edu)... 128.100.3.30\n",
            "Connecting to www.cs.toronto.edu (www.cs.toronto.edu)|128.100.3.30|:443... connected.\n",
            "HTTP request sent, awaiting response... 200 OK\n",
            "Length: 169001437 (161M) [application/x-gzip]\n",
            "Saving to: ‘cifar-100-python.tar.gz’\n",
            "\n",
            "cifar-100-python.ta 100%[===================>] 161.17M  47.3MB/s    in 4.0s    \n",
            "\n",
            "2021-11-08 18:54:40 (40.3 MB/s) - ‘cifar-100-python.tar.gz’ saved [169001437/169001437]\n",
            "\n",
            "cifar-100-python/\n",
            "cifar-100-python/file.txt~\n",
            "cifar-100-python/train\n",
            "cifar-100-python/test\n",
            "cifar-100-python/meta\n"
          ]
        }
      ]
    },
    {
      "cell_type": "code",
      "metadata": {
        "id": "57sDihpxJCMz"
      },
      "source": [
        "!sh scripts/train_val.sh"
      ],
      "execution_count": null,
      "outputs": []
    },
    {
      "cell_type": "code",
      "metadata": {
        "id": "Jl-k5sqyKGkz"
      },
      "source": [
        "!sh scripts/train.sh\n"
      ],
      "execution_count": null,
      "outputs": []
    },
    {
      "cell_type": "code",
      "metadata": {
        "colab": {
          "base_uri": "https://localhost:8080/"
        },
        "id": "EgdyGyGxKJYB",
        "outputId": "c20701ff-69ad-49ae-d8db-a24dd0b56e36"
      },
      "source": [
        "!sh scripts/validate_openmax.sh"
      ],
      "execution_count": null,
      "outputs": [
        {
          "output_type": "stream",
          "name": "stdout",
          "text": [
            "/usr/local/lib/python3.7/dist-packages/chainer/_environment_check.py:75: UserWarning: \n",
            "--------------------------------------------------------------------------------\n",
            "CuPy (cupy-cuda111) version 9.5.0 may not be compatible with this version of Chainer.\n",
            "Please consider installing the supported version by running:\n",
            "  $ pip install 'cupy-cuda111>=7.7.0,<8.0.0'\n",
            "\n",
            "See the following page for more details:\n",
            "  https://docs.cupy.dev/en/latest/install.html\n",
            "--------------------------------------------------------------------------------\n",
            "\n",
            "  requirement=requirement, help=help))\n",
            "Traceback (most recent call last):\n",
            "  File \"calc_mav.py\", line 97, in <module>\n",
            "    main()\n",
            "  File \"calc_mav.py\", line 70, in main\n",
            "    model.to_gpu(opt.gpu)\n",
            "  File \"/usr/local/lib/python3.7/dist-packages/chainer/device_resident.py\", line 125, in to_gpu\n",
            "    self.__to_device(visitor)\n",
            "  File \"/usr/local/lib/python3.7/dist-packages/chainer/device_resident.py\", line 175, in __to_device\n",
            "    self.device_resident_accept(to_device_visitor)\n",
            "  File \"/usr/local/lib/python3.7/dist-packages/chainer/link.py\", line 953, in device_resident_accept\n",
            "    d[name].device_resident_accept(visitor)\n",
            "  File \"/usr/local/lib/python3.7/dist-packages/chainer/link.py\", line 953, in device_resident_accept\n",
            "    d[name].device_resident_accept(visitor)\n",
            "  File \"/usr/local/lib/python3.7/dist-packages/chainer/link.py\", line 455, in device_resident_accept\n",
            "    visitor.visit_variable(x)\n",
            "  File \"/usr/local/lib/python3.7/dist-packages/chainer/device_resident.py\", line 340, in visit_variable\n",
            "    param.to_device(self._device)\n",
            "  File \"/usr/local/lib/python3.7/dist-packages/chainer/variable.py\", line 1893, in to_device\n",
            "    super(Parameter, self)._to_device(device, allow_unchaining=True)\n",
            "  File \"/usr/local/lib/python3.7/dist-packages/chainer/variable.py\", line 1325, in _to_device\n",
            "    new_arr = device.send(arr)\n",
            "  File \"/usr/local/lib/python3.7/dist-packages/chainer/_backend.py\", line 114, in send\n",
            "    return _convert_arrays(arrays, self.send_array)\n",
            "  File \"/usr/local/lib/python3.7/dist-packages/chainer/_backend.py\", line 19, in _convert_arrays\n",
            "    return func(array)\n",
            "  File \"/usr/local/lib/python3.7/dist-packages/chainer/backends/cuda.py\", line 266, in send_array\n",
            "    return _array_to_gpu(array, self.device, None)\n",
            "  File \"/usr/local/lib/python3.7/dist-packages/chainer/backends/cuda.py\", line 466, in _array_to_gpu\n",
            "    with device:\n",
            "  File \"cupy/cuda/device.pyx\", line 160, in cupy.cuda.device.Device.__enter__\n",
            "  File \"cupy_backends/cuda/api/runtime.pyx\", line 301, in cupy_backends.cuda.api.runtime.getDevice\n",
            "  File \"cupy_backends/cuda/api/runtime.pyx\", line 273, in cupy_backends.cuda.api.runtime.check_status\n",
            "cupy_backends.cuda.api.runtime.CUDARuntimeError: cudaErrorNoDevice: no CUDA-capable device is detected\n",
            "/usr/local/lib/python3.7/dist-packages/chainer/_environment_check.py:75: UserWarning: \n",
            "--------------------------------------------------------------------------------\n",
            "CuPy (cupy-cuda111) version 9.5.0 may not be compatible with this version of Chainer.\n",
            "Please consider installing the supported version by running:\n",
            "  $ pip install 'cupy-cuda111>=7.7.0,<8.0.0'\n",
            "\n",
            "See the following page for more details:\n",
            "  https://docs.cupy.dev/en/latest/install.html\n",
            "--------------------------------------------------------------------------------\n",
            "\n",
            "  requirement=requirement, help=help))\n",
            "Traceback (most recent call last):\n",
            "  File \"calc_score.py\", line 117, in <module>\n",
            "    main()\n",
            "  File \"calc_score.py\", line 89, in main\n",
            "    model.to_gpu(opt.gpu)\n",
            "  File \"/usr/local/lib/python3.7/dist-packages/chainer/device_resident.py\", line 125, in to_gpu\n",
            "    self.__to_device(visitor)\n",
            "  File \"/usr/local/lib/python3.7/dist-packages/chainer/device_resident.py\", line 175, in __to_device\n",
            "    self.device_resident_accept(to_device_visitor)\n",
            "  File \"/usr/local/lib/python3.7/dist-packages/chainer/link.py\", line 953, in device_resident_accept\n",
            "    d[name].device_resident_accept(visitor)\n",
            "  File \"/usr/local/lib/python3.7/dist-packages/chainer/link.py\", line 455, in device_resident_accept\n",
            "    visitor.visit_variable(x)\n",
            "  File \"/usr/local/lib/python3.7/dist-packages/chainer/device_resident.py\", line 340, in visit_variable\n",
            "    param.to_device(self._device)\n",
            "  File \"/usr/local/lib/python3.7/dist-packages/chainer/variable.py\", line 1893, in to_device\n",
            "    super(Parameter, self)._to_device(device, allow_unchaining=True)\n",
            "  File \"/usr/local/lib/python3.7/dist-packages/chainer/variable.py\", line 1325, in _to_device\n",
            "    new_arr = device.send(arr)\n",
            "  File \"/usr/local/lib/python3.7/dist-packages/chainer/_backend.py\", line 114, in send\n",
            "    return _convert_arrays(arrays, self.send_array)\n",
            "  File \"/usr/local/lib/python3.7/dist-packages/chainer/_backend.py\", line 19, in _convert_arrays\n",
            "    return func(array)\n",
            "  File \"/usr/local/lib/python3.7/dist-packages/chainer/backends/cuda.py\", line 266, in send_array\n",
            "    return _array_to_gpu(array, self.device, None)\n",
            "  File \"/usr/local/lib/python3.7/dist-packages/chainer/backends/cuda.py\", line 466, in _array_to_gpu\n",
            "    with device:\n",
            "  File \"cupy/cuda/device.pyx\", line 160, in cupy.cuda.device.Device.__enter__\n",
            "  File \"cupy_backends/cuda/api/runtime.pyx\", line 301, in cupy_backends.cuda.api.runtime.getDevice\n",
            "  File \"cupy_backends/cuda/api/runtime.pyx\", line 273, in cupy_backends.cuda.api.runtime.check_status\n",
            "cupy_backends.cuda.api.runtime.CUDARuntimeError: cudaErrorNoDevice: no CUDA-capable device is detected\n",
            "usage: validate_openmax.py [-h] [--val] [--distance_type DISTANCE_TYPE]\n",
            "                           [--eu_weight EU_WEIGHT] [--save SAVE]\n",
            "validate_openmax.py: error: unrecognized arguments: --score_path outputs/convnet_val/val_score.joblib\n"
          ]
        }
      ]
    },
    {
      "cell_type": "code",
      "metadata": {
        "colab": {
          "base_uri": "https://localhost:8080/"
        },
        "id": "qMJRax12KM8M",
        "outputId": "d88fcf53-fad7-445d-c9d3-4c8b6f4922ad"
      },
      "source": [
        "!sh scripts/test_openmax.sh 80 3 0.9"
      ],
      "execution_count": null,
      "outputs": [
        {
          "output_type": "stream",
          "name": "stdout",
          "text": [
            "/usr/local/lib/python3.7/dist-packages/chainer/_environment_check.py:75: UserWarning: \n",
            "--------------------------------------------------------------------------------\n",
            "CuPy (cupy-cuda111) version 9.5.0 may not be compatible with this version of Chainer.\n",
            "Please consider installing the supported version by running:\n",
            "  $ pip install 'cupy-cuda111>=7.7.0,<8.0.0'\n",
            "\n",
            "See the following page for more details:\n",
            "  https://docs.cupy.dev/en/latest/install.html\n",
            "--------------------------------------------------------------------------------\n",
            "\n",
            "  requirement=requirement, help=help))\n",
            "Traceback (most recent call last):\n",
            "  File \"calc_score.py\", line 117, in <module>\n",
            "    main()\n",
            "  File \"calc_score.py\", line 89, in main\n",
            "    model.to_gpu(opt.gpu)\n",
            "  File \"/usr/local/lib/python3.7/dist-packages/chainer/device_resident.py\", line 125, in to_gpu\n",
            "    self.__to_device(visitor)\n",
            "  File \"/usr/local/lib/python3.7/dist-packages/chainer/device_resident.py\", line 175, in __to_device\n",
            "    self.device_resident_accept(to_device_visitor)\n",
            "  File \"/usr/local/lib/python3.7/dist-packages/chainer/link.py\", line 953, in device_resident_accept\n",
            "    d[name].device_resident_accept(visitor)\n",
            "  File \"/usr/local/lib/python3.7/dist-packages/chainer/link.py\", line 455, in device_resident_accept\n",
            "    visitor.visit_variable(x)\n",
            "  File \"/usr/local/lib/python3.7/dist-packages/chainer/device_resident.py\", line 340, in visit_variable\n",
            "    param.to_device(self._device)\n",
            "  File \"/usr/local/lib/python3.7/dist-packages/chainer/variable.py\", line 1893, in to_device\n",
            "    super(Parameter, self)._to_device(device, allow_unchaining=True)\n",
            "  File \"/usr/local/lib/python3.7/dist-packages/chainer/variable.py\", line 1325, in _to_device\n",
            "    new_arr = device.send(arr)\n",
            "  File \"/usr/local/lib/python3.7/dist-packages/chainer/_backend.py\", line 114, in send\n",
            "    return _convert_arrays(arrays, self.send_array)\n",
            "  File \"/usr/local/lib/python3.7/dist-packages/chainer/_backend.py\", line 19, in _convert_arrays\n",
            "    return func(array)\n",
            "  File \"/usr/local/lib/python3.7/dist-packages/chainer/backends/cuda.py\", line 266, in send_array\n",
            "    return _array_to_gpu(array, self.device, None)\n",
            "  File \"/usr/local/lib/python3.7/dist-packages/chainer/backends/cuda.py\", line 466, in _array_to_gpu\n",
            "    with device:\n",
            "  File \"cupy/cuda/device.pyx\", line 160, in cupy.cuda.device.Device.__enter__\n",
            "  File \"cupy_backends/cuda/api/runtime.pyx\", line 301, in cupy_backends.cuda.api.runtime.getDevice\n",
            "  File \"cupy_backends/cuda/api/runtime.pyx\", line 273, in cupy_backends.cuda.api.runtime.check_status\n",
            "cupy_backends.cuda.api.runtime.CUDARuntimeError: cudaErrorNoDevice: no CUDA-capable device is detected\n",
            "Open Set evaluation:\n",
            "Both:\n",
            "Accuracy: softmax=0.62945, openmax=0.7942\n",
            "F1 score: softmax=0.6976219602933291, openmax=0.7985985388784882\n",
            "CIFAR-10 only:\n",
            "Accuracy: softmax=0.9202, openmax=0.8186\n",
            "F1 score: softmax=0.8553655960445273, openmax=0.8132611165116308\n",
            "Closed Set evaluation:\n",
            "Accuracy: softmax=0.9412\n",
            "F1 score: softmax=0.9410940412601981\n"
          ]
        }
      ]
    }
  ]
}